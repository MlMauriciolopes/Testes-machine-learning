{
  "nbformat": 4,
  "nbformat_minor": 0,
  "metadata": {
    "colab": {
      "name": "análise_descritiva_de_dados(estatística).ipynb",
      "provenance": [],
      "collapsed_sections": [],
      "mount_file_id": "1OxpTmDHj_vm9lM44G-mD8HuXxhXV6IHr",
      "authorship_tag": "ABX9TyOSRUvQN91SYv23PnH1KiL9",
      "include_colab_link": true
    },
    "kernelspec": {
      "name": "python3",
      "display_name": "Python 3"
    },
    "language_info": {
      "name": "python"
    }
  },
  "cells": [
    {
      "cell_type": "markdown",
      "metadata": {
        "id": "view-in-github",
        "colab_type": "text"
      },
      "source": [
        "<a href=\"https://colab.research.google.com/github/MlMauriciolopes/Testes-machine-learning/blob/main/an%C3%A1lise_descritiva_de_dados(estat%C3%ADstica).ipynb\" target=\"_parent\"><img src=\"https://colab.research.google.com/assets/colab-badge.svg\" alt=\"Open In Colab\"/></a>"
      ]
    },
    {
      "cell_type": "markdown",
      "source": [
        ""
      ],
      "metadata": {
        "id": "gjhaGFIlnmU1"
      }
    },
    {
      "cell_type": "markdown",
      "source": [
        "### Importando as bibliotecas"
      ],
      "metadata": {
        "id": "8gyr1Zg4pE2d"
      }
    },
    {
      "cell_type": "code",
      "source": [
        "# Bibliotecas\n",
        "import pandas as pd\n",
        "import numpy as np\n",
        "import seaborn as sns\n",
        "import matplotlib.pyplot as plt"
      ],
      "metadata": {
        "id": "H9OJDfkTnqkB"
      },
      "execution_count": 162,
      "outputs": []
    },
    {
      "cell_type": "markdown",
      "source": [
        "### Carregando a base de dados"
      ],
      "metadata": {
        "id": "m4X7uyrbpLtX"
      }
    },
    {
      "cell_type": "code",
      "source": [
        "# local da base de dados\n",
        "rootDir = '/content/'"
      ],
      "metadata": {
        "id": "OJPqy4sSn3_T"
      },
      "execution_count": 163,
      "outputs": []
    },
    {
      "cell_type": "code",
      "source": [
        "#Nome Arquivo / Carregando o dataset\n",
        "arquivo = '/drive/MyDrive/datalab_analytics/AULA01-ATIV-AnaliseDescritiva.csv'\n"
      ],
      "metadata": {
        "id": "RwsvLHIVn61J"
      },
      "execution_count": 164,
      "outputs": []
    },
    {
      "cell_type": "code",
      "source": [
        "# Estruturando o dataset\n",
        "df = pd.read_csv( rootDir + arquivo\n",
        "                   ,sep     = ','\n",
        "                   ,quotechar='\"'\n",
        "                   ,header  = 0\n",
        "                   ,decimal = ','\n",
        "                   ,encoding = \"ISO-8859-1\")"
      ],
      "metadata": {
        "id": "F-SS2mEFn-Ug"
      },
      "execution_count": 165,
      "outputs": []
    },
    {
      "cell_type": "code",
      "source": [
        "# Verificando as linhas do dataset\n",
        "df.head()"
      ],
      "metadata": {
        "colab": {
          "base_uri": "https://localhost:8080/",
          "height": 427
        },
        "id": "2fTW7iBjoYDp",
        "outputId": "21301393-7e29-470f-c95d-a171abe01f5b"
      },
      "execution_count": 166,
      "outputs": [
        {
          "output_type": "execute_result",
          "data": {
            "text/plain": [
              "   Contrato Sexo  IDADE_RECEB_CTR  IDADE_VENC_DEB  IDADE_DT_ASSOC   Uf  \\\n",
              "0  24907969    F               42              41              40   PR   \n",
              "1   1212638    F               42              39              22   PR   \n",
              "2  22584438    M               41              41              38  NaN   \n",
              "3  22482289    F               41              38              38  NaN   \n",
              "4  15315359    M               41              41              34  NaN   \n",
              "\n",
              "   EstadoCivil                       Profissao              Carteira  \\\n",
              "0     SOLTEIRO  PREFEITURA MUNICIPAL PORTO RIC       PDD (121 a 360)   \n",
              "1       CASADO         ZELADORA PREDIO MELISSA  FASES 2 (721 a 1800)   \n",
              "2  Solteiro(a)  PROCARDIO CENTRO CARDIORESPIRA       PDD (121 a 360)   \n",
              "3        Outro               ROSANA DOS SANTOS  FASES 2 (721 a 1800)   \n",
              "4    Casado(a)                EDIFICIO MISTRAL       PDD (121 a 360)   \n",
              "\n",
              "  ATRASO_NO_RECB_CTRO TMP_ATRASO_CLIENTE  qtdeTItulo VLR_DEBITO  \\\n",
              "0              181.00             520.00           9     799.07   \n",
              "1             1004.00            6305.00           2      109.3   \n",
              "2              151.00             788.00           4     202.56   \n",
              "3              902.00              30.00          11     798.27   \n",
              "4              121.00            2584.00           6     584.64   \n",
              "\n",
              "   QTDE_TENTATIVAS_CTTO  TARGET_NUM TARGET_DISC            ALEATORIO CONJUNTO  \n",
              "0                    42           0         MAU   6.9965376211845E-5      TST  \n",
              "1                    20           0         MAU  0.00060943086864296      TST  \n",
              "2                     6           0         MAU  0.00064365477393369      TST  \n",
              "3                    31           0         MAU   0.0014999404989809      TST  \n",
              "4                    18           0         MAU   0.0018246688871694      TST  "
            ],
            "text/html": [
              "\n",
              "  <div id=\"df-54afb631-a869-4186-ab19-c1ed7290bd51\">\n",
              "    <div class=\"colab-df-container\">\n",
              "      <div>\n",
              "<style scoped>\n",
              "    .dataframe tbody tr th:only-of-type {\n",
              "        vertical-align: middle;\n",
              "    }\n",
              "\n",
              "    .dataframe tbody tr th {\n",
              "        vertical-align: top;\n",
              "    }\n",
              "\n",
              "    .dataframe thead th {\n",
              "        text-align: right;\n",
              "    }\n",
              "</style>\n",
              "<table border=\"1\" class=\"dataframe\">\n",
              "  <thead>\n",
              "    <tr style=\"text-align: right;\">\n",
              "      <th></th>\n",
              "      <th>Contrato</th>\n",
              "      <th>Sexo</th>\n",
              "      <th>IDADE_RECEB_CTR</th>\n",
              "      <th>IDADE_VENC_DEB</th>\n",
              "      <th>IDADE_DT_ASSOC</th>\n",
              "      <th>Uf</th>\n",
              "      <th>EstadoCivil</th>\n",
              "      <th>Profissao</th>\n",
              "      <th>Carteira</th>\n",
              "      <th>ATRASO_NO_RECB_CTRO</th>\n",
              "      <th>TMP_ATRASO_CLIENTE</th>\n",
              "      <th>qtdeTItulo</th>\n",
              "      <th>VLR_DEBITO</th>\n",
              "      <th>QTDE_TENTATIVAS_CTTO</th>\n",
              "      <th>TARGET_NUM</th>\n",
              "      <th>TARGET_DISC</th>\n",
              "      <th>ALEATORIO</th>\n",
              "      <th>CONJUNTO</th>\n",
              "    </tr>\n",
              "  </thead>\n",
              "  <tbody>\n",
              "    <tr>\n",
              "      <th>0</th>\n",
              "      <td>24907969</td>\n",
              "      <td>F</td>\n",
              "      <td>42</td>\n",
              "      <td>41</td>\n",
              "      <td>40</td>\n",
              "      <td>PR</td>\n",
              "      <td>SOLTEIRO</td>\n",
              "      <td>PREFEITURA MUNICIPAL PORTO RIC</td>\n",
              "      <td>PDD (121 a 360)</td>\n",
              "      <td>181.00</td>\n",
              "      <td>520.00</td>\n",
              "      <td>9</td>\n",
              "      <td>799.07</td>\n",
              "      <td>42</td>\n",
              "      <td>0</td>\n",
              "      <td>MAU</td>\n",
              "      <td>6.9965376211845E-5</td>\n",
              "      <td>TST</td>\n",
              "    </tr>\n",
              "    <tr>\n",
              "      <th>1</th>\n",
              "      <td>1212638</td>\n",
              "      <td>F</td>\n",
              "      <td>42</td>\n",
              "      <td>39</td>\n",
              "      <td>22</td>\n",
              "      <td>PR</td>\n",
              "      <td>CASADO</td>\n",
              "      <td>ZELADORA PREDIO MELISSA</td>\n",
              "      <td>FASES 2 (721 a 1800)</td>\n",
              "      <td>1004.00</td>\n",
              "      <td>6305.00</td>\n",
              "      <td>2</td>\n",
              "      <td>109.3</td>\n",
              "      <td>20</td>\n",
              "      <td>0</td>\n",
              "      <td>MAU</td>\n",
              "      <td>0.00060943086864296</td>\n",
              "      <td>TST</td>\n",
              "    </tr>\n",
              "    <tr>\n",
              "      <th>2</th>\n",
              "      <td>22584438</td>\n",
              "      <td>M</td>\n",
              "      <td>41</td>\n",
              "      <td>41</td>\n",
              "      <td>38</td>\n",
              "      <td>NaN</td>\n",
              "      <td>Solteiro(a)</td>\n",
              "      <td>PROCARDIO CENTRO CARDIORESPIRA</td>\n",
              "      <td>PDD (121 a 360)</td>\n",
              "      <td>151.00</td>\n",
              "      <td>788.00</td>\n",
              "      <td>4</td>\n",
              "      <td>202.56</td>\n",
              "      <td>6</td>\n",
              "      <td>0</td>\n",
              "      <td>MAU</td>\n",
              "      <td>0.00064365477393369</td>\n",
              "      <td>TST</td>\n",
              "    </tr>\n",
              "    <tr>\n",
              "      <th>3</th>\n",
              "      <td>22482289</td>\n",
              "      <td>F</td>\n",
              "      <td>41</td>\n",
              "      <td>38</td>\n",
              "      <td>38</td>\n",
              "      <td>NaN</td>\n",
              "      <td>Outro</td>\n",
              "      <td>ROSANA DOS SANTOS</td>\n",
              "      <td>FASES 2 (721 a 1800)</td>\n",
              "      <td>902.00</td>\n",
              "      <td>30.00</td>\n",
              "      <td>11</td>\n",
              "      <td>798.27</td>\n",
              "      <td>31</td>\n",
              "      <td>0</td>\n",
              "      <td>MAU</td>\n",
              "      <td>0.0014999404989809</td>\n",
              "      <td>TST</td>\n",
              "    </tr>\n",
              "    <tr>\n",
              "      <th>4</th>\n",
              "      <td>15315359</td>\n",
              "      <td>M</td>\n",
              "      <td>41</td>\n",
              "      <td>41</td>\n",
              "      <td>34</td>\n",
              "      <td>NaN</td>\n",
              "      <td>Casado(a)</td>\n",
              "      <td>EDIFICIO MISTRAL</td>\n",
              "      <td>PDD (121 a 360)</td>\n",
              "      <td>121.00</td>\n",
              "      <td>2584.00</td>\n",
              "      <td>6</td>\n",
              "      <td>584.64</td>\n",
              "      <td>18</td>\n",
              "      <td>0</td>\n",
              "      <td>MAU</td>\n",
              "      <td>0.0018246688871694</td>\n",
              "      <td>TST</td>\n",
              "    </tr>\n",
              "  </tbody>\n",
              "</table>\n",
              "</div>\n",
              "      <button class=\"colab-df-convert\" onclick=\"convertToInteractive('df-54afb631-a869-4186-ab19-c1ed7290bd51')\"\n",
              "              title=\"Convert this dataframe to an interactive table.\"\n",
              "              style=\"display:none;\">\n",
              "        \n",
              "  <svg xmlns=\"http://www.w3.org/2000/svg\" height=\"24px\"viewBox=\"0 0 24 24\"\n",
              "       width=\"24px\">\n",
              "    <path d=\"M0 0h24v24H0V0z\" fill=\"none\"/>\n",
              "    <path d=\"M18.56 5.44l.94 2.06.94-2.06 2.06-.94-2.06-.94-.94-2.06-.94 2.06-2.06.94zm-11 1L8.5 8.5l.94-2.06 2.06-.94-2.06-.94L8.5 2.5l-.94 2.06-2.06.94zm10 10l.94 2.06.94-2.06 2.06-.94-2.06-.94-.94-2.06-.94 2.06-2.06.94z\"/><path d=\"M17.41 7.96l-1.37-1.37c-.4-.4-.92-.59-1.43-.59-.52 0-1.04.2-1.43.59L10.3 9.45l-7.72 7.72c-.78.78-.78 2.05 0 2.83L4 21.41c.39.39.9.59 1.41.59.51 0 1.02-.2 1.41-.59l7.78-7.78 2.81-2.81c.8-.78.8-2.07 0-2.86zM5.41 20L4 18.59l7.72-7.72 1.47 1.35L5.41 20z\"/>\n",
              "  </svg>\n",
              "      </button>\n",
              "      \n",
              "  <style>\n",
              "    .colab-df-container {\n",
              "      display:flex;\n",
              "      flex-wrap:wrap;\n",
              "      gap: 12px;\n",
              "    }\n",
              "\n",
              "    .colab-df-convert {\n",
              "      background-color: #E8F0FE;\n",
              "      border: none;\n",
              "      border-radius: 50%;\n",
              "      cursor: pointer;\n",
              "      display: none;\n",
              "      fill: #1967D2;\n",
              "      height: 32px;\n",
              "      padding: 0 0 0 0;\n",
              "      width: 32px;\n",
              "    }\n",
              "\n",
              "    .colab-df-convert:hover {\n",
              "      background-color: #E2EBFA;\n",
              "      box-shadow: 0px 1px 2px rgba(60, 64, 67, 0.3), 0px 1px 3px 1px rgba(60, 64, 67, 0.15);\n",
              "      fill: #174EA6;\n",
              "    }\n",
              "\n",
              "    [theme=dark] .colab-df-convert {\n",
              "      background-color: #3B4455;\n",
              "      fill: #D2E3FC;\n",
              "    }\n",
              "\n",
              "    [theme=dark] .colab-df-convert:hover {\n",
              "      background-color: #434B5C;\n",
              "      box-shadow: 0px 1px 3px 1px rgba(0, 0, 0, 0.15);\n",
              "      filter: drop-shadow(0px 1px 2px rgba(0, 0, 0, 0.3));\n",
              "      fill: #FFFFFF;\n",
              "    }\n",
              "  </style>\n",
              "\n",
              "      <script>\n",
              "        const buttonEl =\n",
              "          document.querySelector('#df-54afb631-a869-4186-ab19-c1ed7290bd51 button.colab-df-convert');\n",
              "        buttonEl.style.display =\n",
              "          google.colab.kernel.accessAllowed ? 'block' : 'none';\n",
              "\n",
              "        async function convertToInteractive(key) {\n",
              "          const element = document.querySelector('#df-54afb631-a869-4186-ab19-c1ed7290bd51');\n",
              "          const dataTable =\n",
              "            await google.colab.kernel.invokeFunction('convertToInteractive',\n",
              "                                                     [key], {});\n",
              "          if (!dataTable) return;\n",
              "\n",
              "          const docLinkHtml = 'Like what you see? Visit the ' +\n",
              "            '<a target=\"_blank\" href=https://colab.research.google.com/notebooks/data_table.ipynb>data table notebook</a>'\n",
              "            + ' to learn more about interactive tables.';\n",
              "          element.innerHTML = '';\n",
              "          dataTable['output_type'] = 'display_data';\n",
              "          await google.colab.output.renderOutput(dataTable, element);\n",
              "          const docLink = document.createElement('div');\n",
              "          docLink.innerHTML = docLinkHtml;\n",
              "          element.appendChild(docLink);\n",
              "        }\n",
              "      </script>\n",
              "    </div>\n",
              "  </div>\n",
              "  "
            ]
          },
          "metadata": {},
          "execution_count": 166
        }
      ]
    },
    {
      "cell_type": "code",
      "source": [
        "df.tail()"
      ],
      "metadata": {
        "colab": {
          "base_uri": "https://localhost:8080/",
          "height": 409
        },
        "id": "r_U-UCyfoju3",
        "outputId": "1ff0883c-9435-4080-ece3-8c69448d5ea6"
      },
      "execution_count": 167,
      "outputs": [
        {
          "output_type": "execute_result",
          "data": {
            "text/plain": [
              "      Contrato Sexo  IDADE_RECEB_CTR  IDADE_VENC_DEB  IDADE_DT_ASSOC   Uf  \\\n",
              "4995  27243405    F               -1              -1              -1   SP   \n",
              "4996  26276834    F               41              41              41  NaN   \n",
              "4997   5719313    M               42              38              20   SP   \n",
              "4998  27444650    F               42              41              41   SP   \n",
              "4999   3177558    M               42              39              26   SP   \n",
              "\n",
              "     EstadoCivil                       Profissao              Carteira  \\\n",
              "4995    SOLTEIRO               STATUS CONFECCOES                   NaN   \n",
              "4996   Casado(a)                           EXTRA       PDD (121 a 360)   \n",
              "4997    SOLTEIRO  IRBO IND ARTEFATOS DE BORRACHA  FASES 2 (721 a 1800)   \n",
              "4998    SOLTEIRO              OSANI CONVENIENCIA       PDD (121 a 360)   \n",
              "4999      CASADO  TONY MIYASAKA FOTO VIDEO SOM L  FASES 2 (721 a 1800)   \n",
              "\n",
              "     ATRASO_NO_RECB_CTRO TMP_ATRASO_CLIENTE  qtdeTItulo VLR_DEBITO  \\\n",
              "4995               -1.00              -1.00          -1         -1   \n",
              "4996              128.00              55.00           5      185.7   \n",
              "4997             1359.00            6484.00          10     1704.1   \n",
              "4998              181.00              30.00          -1         -1   \n",
              "4999              908.00            4919.00           2     337.38   \n",
              "\n",
              "      QTDE_TENTATIVAS_CTTO  TARGET_NUM TARGET_DISC         ALEATORIO CONJUNTO  \n",
              "4995                    -1           0         MAU  0.99904202892293      TRT  \n",
              "4996                     8           0         MAU  0.99921312585043      TRT  \n",
              "4997                    38           0         MAU  0.99949351407983      TRT  \n",
              "4998                    -1           0         MAU  0.99950061633439      TRT  \n",
              "4999                    86           0         MAU  0.99993512506277      TRT  "
            ],
            "text/html": [
              "\n",
              "  <div id=\"df-b6185abb-8f87-4cec-a4d9-7a72cbcb2b99\">\n",
              "    <div class=\"colab-df-container\">\n",
              "      <div>\n",
              "<style scoped>\n",
              "    .dataframe tbody tr th:only-of-type {\n",
              "        vertical-align: middle;\n",
              "    }\n",
              "\n",
              "    .dataframe tbody tr th {\n",
              "        vertical-align: top;\n",
              "    }\n",
              "\n",
              "    .dataframe thead th {\n",
              "        text-align: right;\n",
              "    }\n",
              "</style>\n",
              "<table border=\"1\" class=\"dataframe\">\n",
              "  <thead>\n",
              "    <tr style=\"text-align: right;\">\n",
              "      <th></th>\n",
              "      <th>Contrato</th>\n",
              "      <th>Sexo</th>\n",
              "      <th>IDADE_RECEB_CTR</th>\n",
              "      <th>IDADE_VENC_DEB</th>\n",
              "      <th>IDADE_DT_ASSOC</th>\n",
              "      <th>Uf</th>\n",
              "      <th>EstadoCivil</th>\n",
              "      <th>Profissao</th>\n",
              "      <th>Carteira</th>\n",
              "      <th>ATRASO_NO_RECB_CTRO</th>\n",
              "      <th>TMP_ATRASO_CLIENTE</th>\n",
              "      <th>qtdeTItulo</th>\n",
              "      <th>VLR_DEBITO</th>\n",
              "      <th>QTDE_TENTATIVAS_CTTO</th>\n",
              "      <th>TARGET_NUM</th>\n",
              "      <th>TARGET_DISC</th>\n",
              "      <th>ALEATORIO</th>\n",
              "      <th>CONJUNTO</th>\n",
              "    </tr>\n",
              "  </thead>\n",
              "  <tbody>\n",
              "    <tr>\n",
              "      <th>4995</th>\n",
              "      <td>27243405</td>\n",
              "      <td>F</td>\n",
              "      <td>-1</td>\n",
              "      <td>-1</td>\n",
              "      <td>-1</td>\n",
              "      <td>SP</td>\n",
              "      <td>SOLTEIRO</td>\n",
              "      <td>STATUS CONFECCOES</td>\n",
              "      <td>NaN</td>\n",
              "      <td>-1.00</td>\n",
              "      <td>-1.00</td>\n",
              "      <td>-1</td>\n",
              "      <td>-1</td>\n",
              "      <td>-1</td>\n",
              "      <td>0</td>\n",
              "      <td>MAU</td>\n",
              "      <td>0.99904202892293</td>\n",
              "      <td>TRT</td>\n",
              "    </tr>\n",
              "    <tr>\n",
              "      <th>4996</th>\n",
              "      <td>26276834</td>\n",
              "      <td>F</td>\n",
              "      <td>41</td>\n",
              "      <td>41</td>\n",
              "      <td>41</td>\n",
              "      <td>NaN</td>\n",
              "      <td>Casado(a)</td>\n",
              "      <td>EXTRA</td>\n",
              "      <td>PDD (121 a 360)</td>\n",
              "      <td>128.00</td>\n",
              "      <td>55.00</td>\n",
              "      <td>5</td>\n",
              "      <td>185.7</td>\n",
              "      <td>8</td>\n",
              "      <td>0</td>\n",
              "      <td>MAU</td>\n",
              "      <td>0.99921312585043</td>\n",
              "      <td>TRT</td>\n",
              "    </tr>\n",
              "    <tr>\n",
              "      <th>4997</th>\n",
              "      <td>5719313</td>\n",
              "      <td>M</td>\n",
              "      <td>42</td>\n",
              "      <td>38</td>\n",
              "      <td>20</td>\n",
              "      <td>SP</td>\n",
              "      <td>SOLTEIRO</td>\n",
              "      <td>IRBO IND ARTEFATOS DE BORRACHA</td>\n",
              "      <td>FASES 2 (721 a 1800)</td>\n",
              "      <td>1359.00</td>\n",
              "      <td>6484.00</td>\n",
              "      <td>10</td>\n",
              "      <td>1704.1</td>\n",
              "      <td>38</td>\n",
              "      <td>0</td>\n",
              "      <td>MAU</td>\n",
              "      <td>0.99949351407983</td>\n",
              "      <td>TRT</td>\n",
              "    </tr>\n",
              "    <tr>\n",
              "      <th>4998</th>\n",
              "      <td>27444650</td>\n",
              "      <td>F</td>\n",
              "      <td>42</td>\n",
              "      <td>41</td>\n",
              "      <td>41</td>\n",
              "      <td>SP</td>\n",
              "      <td>SOLTEIRO</td>\n",
              "      <td>OSANI CONVENIENCIA</td>\n",
              "      <td>PDD (121 a 360)</td>\n",
              "      <td>181.00</td>\n",
              "      <td>30.00</td>\n",
              "      <td>-1</td>\n",
              "      <td>-1</td>\n",
              "      <td>-1</td>\n",
              "      <td>0</td>\n",
              "      <td>MAU</td>\n",
              "      <td>0.99950061633439</td>\n",
              "      <td>TRT</td>\n",
              "    </tr>\n",
              "    <tr>\n",
              "      <th>4999</th>\n",
              "      <td>3177558</td>\n",
              "      <td>M</td>\n",
              "      <td>42</td>\n",
              "      <td>39</td>\n",
              "      <td>26</td>\n",
              "      <td>SP</td>\n",
              "      <td>CASADO</td>\n",
              "      <td>TONY MIYASAKA FOTO VIDEO SOM L</td>\n",
              "      <td>FASES 2 (721 a 1800)</td>\n",
              "      <td>908.00</td>\n",
              "      <td>4919.00</td>\n",
              "      <td>2</td>\n",
              "      <td>337.38</td>\n",
              "      <td>86</td>\n",
              "      <td>0</td>\n",
              "      <td>MAU</td>\n",
              "      <td>0.99993512506277</td>\n",
              "      <td>TRT</td>\n",
              "    </tr>\n",
              "  </tbody>\n",
              "</table>\n",
              "</div>\n",
              "      <button class=\"colab-df-convert\" onclick=\"convertToInteractive('df-b6185abb-8f87-4cec-a4d9-7a72cbcb2b99')\"\n",
              "              title=\"Convert this dataframe to an interactive table.\"\n",
              "              style=\"display:none;\">\n",
              "        \n",
              "  <svg xmlns=\"http://www.w3.org/2000/svg\" height=\"24px\"viewBox=\"0 0 24 24\"\n",
              "       width=\"24px\">\n",
              "    <path d=\"M0 0h24v24H0V0z\" fill=\"none\"/>\n",
              "    <path d=\"M18.56 5.44l.94 2.06.94-2.06 2.06-.94-2.06-.94-.94-2.06-.94 2.06-2.06.94zm-11 1L8.5 8.5l.94-2.06 2.06-.94-2.06-.94L8.5 2.5l-.94 2.06-2.06.94zm10 10l.94 2.06.94-2.06 2.06-.94-2.06-.94-.94-2.06-.94 2.06-2.06.94z\"/><path d=\"M17.41 7.96l-1.37-1.37c-.4-.4-.92-.59-1.43-.59-.52 0-1.04.2-1.43.59L10.3 9.45l-7.72 7.72c-.78.78-.78 2.05 0 2.83L4 21.41c.39.39.9.59 1.41.59.51 0 1.02-.2 1.41-.59l7.78-7.78 2.81-2.81c.8-.78.8-2.07 0-2.86zM5.41 20L4 18.59l7.72-7.72 1.47 1.35L5.41 20z\"/>\n",
              "  </svg>\n",
              "      </button>\n",
              "      \n",
              "  <style>\n",
              "    .colab-df-container {\n",
              "      display:flex;\n",
              "      flex-wrap:wrap;\n",
              "      gap: 12px;\n",
              "    }\n",
              "\n",
              "    .colab-df-convert {\n",
              "      background-color: #E8F0FE;\n",
              "      border: none;\n",
              "      border-radius: 50%;\n",
              "      cursor: pointer;\n",
              "      display: none;\n",
              "      fill: #1967D2;\n",
              "      height: 32px;\n",
              "      padding: 0 0 0 0;\n",
              "      width: 32px;\n",
              "    }\n",
              "\n",
              "    .colab-df-convert:hover {\n",
              "      background-color: #E2EBFA;\n",
              "      box-shadow: 0px 1px 2px rgba(60, 64, 67, 0.3), 0px 1px 3px 1px rgba(60, 64, 67, 0.15);\n",
              "      fill: #174EA6;\n",
              "    }\n",
              "\n",
              "    [theme=dark] .colab-df-convert {\n",
              "      background-color: #3B4455;\n",
              "      fill: #D2E3FC;\n",
              "    }\n",
              "\n",
              "    [theme=dark] .colab-df-convert:hover {\n",
              "      background-color: #434B5C;\n",
              "      box-shadow: 0px 1px 3px 1px rgba(0, 0, 0, 0.15);\n",
              "      filter: drop-shadow(0px 1px 2px rgba(0, 0, 0, 0.3));\n",
              "      fill: #FFFFFF;\n",
              "    }\n",
              "  </style>\n",
              "\n",
              "      <script>\n",
              "        const buttonEl =\n",
              "          document.querySelector('#df-b6185abb-8f87-4cec-a4d9-7a72cbcb2b99 button.colab-df-convert');\n",
              "        buttonEl.style.display =\n",
              "          google.colab.kernel.accessAllowed ? 'block' : 'none';\n",
              "\n",
              "        async function convertToInteractive(key) {\n",
              "          const element = document.querySelector('#df-b6185abb-8f87-4cec-a4d9-7a72cbcb2b99');\n",
              "          const dataTable =\n",
              "            await google.colab.kernel.invokeFunction('convertToInteractive',\n",
              "                                                     [key], {});\n",
              "          if (!dataTable) return;\n",
              "\n",
              "          const docLinkHtml = 'Like what you see? Visit the ' +\n",
              "            '<a target=\"_blank\" href=https://colab.research.google.com/notebooks/data_table.ipynb>data table notebook</a>'\n",
              "            + ' to learn more about interactive tables.';\n",
              "          element.innerHTML = '';\n",
              "          dataTable['output_type'] = 'display_data';\n",
              "          await google.colab.output.renderOutput(dataTable, element);\n",
              "          const docLink = document.createElement('div');\n",
              "          docLink.innerHTML = docLinkHtml;\n",
              "          element.appendChild(docLink);\n",
              "        }\n",
              "      </script>\n",
              "    </div>\n",
              "  </div>\n",
              "  "
            ]
          },
          "metadata": {},
          "execution_count": 167
        }
      ]
    },
    {
      "cell_type": "markdown",
      "source": [
        "### Avaliando a dimensão do dataset"
      ],
      "metadata": {
        "id": "O8mnia5Co6kp"
      }
    },
    {
      "cell_type": "code",
      "source": [
        "# Avaliando a dimensionalidade do dataset\n",
        "# Número de linhas e colunas\n",
        "df.shape"
      ],
      "metadata": {
        "colab": {
          "base_uri": "https://localhost:8080/"
        },
        "id": "mP2fZMJoopCR",
        "outputId": "aa2e640e-f0ec-4376-bbd8-7c41b4ff7e6c"
      },
      "execution_count": 168,
      "outputs": [
        {
          "output_type": "execute_result",
          "data": {
            "text/plain": [
              "(5000, 18)"
            ]
          },
          "metadata": {},
          "execution_count": 168
        }
      ]
    },
    {
      "cell_type": "code",
      "source": [
        "# Número de linhas\n",
        "len(df)"
      ],
      "metadata": {
        "colab": {
          "base_uri": "https://localhost:8080/"
        },
        "id": "PbDddpDQpUhe",
        "outputId": "46370376-6600-4bd3-851a-6b53981d5958"
      },
      "execution_count": 169,
      "outputs": [
        {
          "output_type": "execute_result",
          "data": {
            "text/plain": [
              "5000"
            ]
          },
          "metadata": {},
          "execution_count": 169
        }
      ]
    },
    {
      "cell_type": "code",
      "source": [
        "# Número de colunas\n",
        "len(df.columns)"
      ],
      "metadata": {
        "colab": {
          "base_uri": "https://localhost:8080/"
        },
        "id": "v9kfS5aopXma",
        "outputId": "87656cdf-1143-4026-9d12-63d6ba0b9a0d"
      },
      "execution_count": 170,
      "outputs": [
        {
          "output_type": "execute_result",
          "data": {
            "text/plain": [
              "18"
            ]
          },
          "metadata": {},
          "execution_count": 170
        }
      ]
    },
    {
      "cell_type": "code",
      "source": [
        "# verificando colunas do dataset\n",
        "df.columns"
      ],
      "metadata": {
        "colab": {
          "base_uri": "https://localhost:8080/"
        },
        "id": "DBtd-QzhqECu",
        "outputId": "5ad4c7a6-e9aa-4f1a-a9f4-4a3836c9de56"
      },
      "execution_count": 171,
      "outputs": [
        {
          "output_type": "execute_result",
          "data": {
            "text/plain": [
              "Index(['Contrato', 'Sexo', 'IDADE_RECEB_CTR', 'IDADE_VENC_DEB',\n",
              "       'IDADE_DT_ASSOC', 'Uf', 'EstadoCivil', 'Profissao', 'Carteira',\n",
              "       'ATRASO_NO_RECB_CTRO', 'TMP_ATRASO_CLIENTE', 'qtdeTItulo', 'VLR_DEBITO',\n",
              "       'QTDE_TENTATIVAS_CTTO', 'TARGET_NUM', 'TARGET_DISC', 'ALEATORIO',\n",
              "       'CONJUNTO'],\n",
              "      dtype='object')"
            ]
          },
          "metadata": {},
          "execution_count": 171
        }
      ]
    },
    {
      "cell_type": "code",
      "source": [
        "# Verificando se tem dados faltantes no dataset\n",
        "df.isnull().values.any()"
      ],
      "metadata": {
        "colab": {
          "base_uri": "https://localhost:8080/"
        },
        "id": "pKjEVhAgqUho",
        "outputId": "9eacaac7-1500-4094-e57d-9d3c599b82f3"
      },
      "execution_count": 172,
      "outputs": [
        {
          "output_type": "execute_result",
          "data": {
            "text/plain": [
              "True"
            ]
          },
          "metadata": {},
          "execution_count": 172
        }
      ]
    },
    {
      "cell_type": "code",
      "source": [
        "# Contando dados faltantes por colunas\n",
        "df.isnull().sum()"
      ],
      "metadata": {
        "colab": {
          "base_uri": "https://localhost:8080/"
        },
        "id": "YR55cIYzqh4W",
        "outputId": "d111e54b-623b-4877-9a95-2aa40b0c5f0c"
      },
      "execution_count": 173,
      "outputs": [
        {
          "output_type": "execute_result",
          "data": {
            "text/plain": [
              "Contrato                   0\n",
              "Sexo                      14\n",
              "IDADE_RECEB_CTR            0\n",
              "IDADE_VENC_DEB             0\n",
              "IDADE_DT_ASSOC             0\n",
              "Uf                      3124\n",
              "EstadoCivil               10\n",
              "Profissao                331\n",
              "Carteira                 225\n",
              "ATRASO_NO_RECB_CTRO        0\n",
              "TMP_ATRASO_CLIENTE         0\n",
              "qtdeTItulo                 0\n",
              "VLR_DEBITO                 0\n",
              "QTDE_TENTATIVAS_CTTO       0\n",
              "TARGET_NUM                 0\n",
              "TARGET_DISC                0\n",
              "ALEATORIO                  0\n",
              "CONJUNTO                   0\n",
              "dtype: int64"
            ]
          },
          "metadata": {},
          "execution_count": 173
        }
      ]
    },
    {
      "cell_type": "markdown",
      "source": [
        "### Média de centralidade dos dados"
      ],
      "metadata": {
        "id": "EaLIvCVhrMCq"
      }
    },
    {
      "cell_type": "code",
      "source": [
        "# Média\n",
        "# Alguns dados do dataset podem estar não numéricos, por isso o Warning\n",
        "df.mean()"
      ],
      "metadata": {
        "colab": {
          "base_uri": "https://localhost:8080/"
        },
        "id": "UTEKDBU_qwx6",
        "outputId": "6524ae09-8672-44b8-bcb7-4c2db771fb15"
      },
      "execution_count": 174,
      "outputs": [
        {
          "output_type": "stream",
          "name": "stderr",
          "text": [
            "/usr/local/lib/python3.7/dist-packages/ipykernel_launcher.py:3: FutureWarning: Dropping of nuisance columns in DataFrame reductions (with 'numeric_only=None') is deprecated; in a future version this will raise TypeError.  Select only valid columns before calling the reduction.\n",
            "  This is separate from the ipykernel package so we can avoid doing imports until\n"
          ]
        },
        {
          "output_type": "execute_result",
          "data": {
            "text/plain": [
              "Contrato                1.842410e+07\n",
              "IDADE_RECEB_CTR         3.937440e+01\n",
              "IDADE_VENC_DEB          3.630020e+01\n",
              "IDADE_DT_ASSOC          3.388080e+01\n",
              "qtdeTItulo              8.608200e+00\n",
              "QTDE_TENTATIVAS_CTTO    3.803720e+01\n",
              "TARGET_NUM              1.096000e-01\n",
              "dtype: float64"
            ]
          },
          "metadata": {},
          "execution_count": 174
        }
      ]
    },
    {
      "cell_type": "code",
      "source": [
        "# Mediana\n",
        "df.median()"
      ],
      "metadata": {
        "colab": {
          "base_uri": "https://localhost:8080/"
        },
        "id": "kt0YTRRcrjc7",
        "outputId": "89666f58-90bf-4baf-9d70-a5ed4e47414b"
      },
      "execution_count": 175,
      "outputs": [
        {
          "output_type": "stream",
          "name": "stderr",
          "text": [
            "/usr/local/lib/python3.7/dist-packages/ipykernel_launcher.py:2: FutureWarning: Dropping of nuisance columns in DataFrame reductions (with 'numeric_only=None') is deprecated; in a future version this will raise TypeError.  Select only valid columns before calling the reduction.\n",
            "  \n"
          ]
        },
        {
          "output_type": "execute_result",
          "data": {
            "text/plain": [
              "Contrato                2.036369e+07\n",
              "IDADE_RECEB_CTR         4.100000e+01\n",
              "IDADE_VENC_DEB          4.000000e+01\n",
              "IDADE_DT_ASSOC          3.700000e+01\n",
              "ATRASO_NO_RECB_CTRO     3.610000e+02\n",
              "TMP_ATRASO_CLIENTE      6.545000e+02\n",
              "qtdeTItulo              7.000000e+00\n",
              "VLR_DEBITO              5.590800e+02\n",
              "QTDE_TENTATIVAS_CTTO    2.900000e+01\n",
              "TARGET_NUM              0.000000e+00\n",
              "ALEATORIO               5.065199e-01\n",
              "dtype: float64"
            ]
          },
          "metadata": {},
          "execution_count": 175
        }
      ]
    },
    {
      "cell_type": "code",
      "source": [
        "# Comparando análises média e mediana\n",
        "comp = pd.DataFrame()\n",
        "comp['media'] = df.mean()\n",
        "comp['mediana'] = df.median()\n",
        "comp"
      ],
      "metadata": {
        "colab": {
          "base_uri": "https://localhost:8080/",
          "height": 361
        },
        "id": "kW0AdSjRroPM",
        "outputId": "bbfdec91-3c2d-4f77-b2bd-860fc797c48d"
      },
      "execution_count": 176,
      "outputs": [
        {
          "output_type": "stream",
          "name": "stderr",
          "text": [
            "/usr/local/lib/python3.7/dist-packages/ipykernel_launcher.py:3: FutureWarning: Dropping of nuisance columns in DataFrame reductions (with 'numeric_only=None') is deprecated; in a future version this will raise TypeError.  Select only valid columns before calling the reduction.\n",
            "  This is separate from the ipykernel package so we can avoid doing imports until\n",
            "/usr/local/lib/python3.7/dist-packages/ipykernel_launcher.py:4: FutureWarning: Dropping of nuisance columns in DataFrame reductions (with 'numeric_only=None') is deprecated; in a future version this will raise TypeError.  Select only valid columns before calling the reduction.\n",
            "  after removing the cwd from sys.path.\n"
          ]
        },
        {
          "output_type": "execute_result",
          "data": {
            "text/plain": [
              "                             media     mediana\n",
              "Contrato              1.842410e+07  20363686.5\n",
              "IDADE_RECEB_CTR       3.937440e+01        41.0\n",
              "IDADE_VENC_DEB        3.630020e+01        40.0\n",
              "IDADE_DT_ASSOC        3.388080e+01        37.0\n",
              "qtdeTItulo            8.608200e+00         7.0\n",
              "QTDE_TENTATIVAS_CTTO  3.803720e+01        29.0\n",
              "TARGET_NUM            1.096000e-01         0.0"
            ],
            "text/html": [
              "\n",
              "  <div id=\"df-ce9a41e5-8628-4099-bb4d-70ea565654cd\">\n",
              "    <div class=\"colab-df-container\">\n",
              "      <div>\n",
              "<style scoped>\n",
              "    .dataframe tbody tr th:only-of-type {\n",
              "        vertical-align: middle;\n",
              "    }\n",
              "\n",
              "    .dataframe tbody tr th {\n",
              "        vertical-align: top;\n",
              "    }\n",
              "\n",
              "    .dataframe thead th {\n",
              "        text-align: right;\n",
              "    }\n",
              "</style>\n",
              "<table border=\"1\" class=\"dataframe\">\n",
              "  <thead>\n",
              "    <tr style=\"text-align: right;\">\n",
              "      <th></th>\n",
              "      <th>media</th>\n",
              "      <th>mediana</th>\n",
              "    </tr>\n",
              "  </thead>\n",
              "  <tbody>\n",
              "    <tr>\n",
              "      <th>Contrato</th>\n",
              "      <td>1.842410e+07</td>\n",
              "      <td>20363686.5</td>\n",
              "    </tr>\n",
              "    <tr>\n",
              "      <th>IDADE_RECEB_CTR</th>\n",
              "      <td>3.937440e+01</td>\n",
              "      <td>41.0</td>\n",
              "    </tr>\n",
              "    <tr>\n",
              "      <th>IDADE_VENC_DEB</th>\n",
              "      <td>3.630020e+01</td>\n",
              "      <td>40.0</td>\n",
              "    </tr>\n",
              "    <tr>\n",
              "      <th>IDADE_DT_ASSOC</th>\n",
              "      <td>3.388080e+01</td>\n",
              "      <td>37.0</td>\n",
              "    </tr>\n",
              "    <tr>\n",
              "      <th>qtdeTItulo</th>\n",
              "      <td>8.608200e+00</td>\n",
              "      <td>7.0</td>\n",
              "    </tr>\n",
              "    <tr>\n",
              "      <th>QTDE_TENTATIVAS_CTTO</th>\n",
              "      <td>3.803720e+01</td>\n",
              "      <td>29.0</td>\n",
              "    </tr>\n",
              "    <tr>\n",
              "      <th>TARGET_NUM</th>\n",
              "      <td>1.096000e-01</td>\n",
              "      <td>0.0</td>\n",
              "    </tr>\n",
              "  </tbody>\n",
              "</table>\n",
              "</div>\n",
              "      <button class=\"colab-df-convert\" onclick=\"convertToInteractive('df-ce9a41e5-8628-4099-bb4d-70ea565654cd')\"\n",
              "              title=\"Convert this dataframe to an interactive table.\"\n",
              "              style=\"display:none;\">\n",
              "        \n",
              "  <svg xmlns=\"http://www.w3.org/2000/svg\" height=\"24px\"viewBox=\"0 0 24 24\"\n",
              "       width=\"24px\">\n",
              "    <path d=\"M0 0h24v24H0V0z\" fill=\"none\"/>\n",
              "    <path d=\"M18.56 5.44l.94 2.06.94-2.06 2.06-.94-2.06-.94-.94-2.06-.94 2.06-2.06.94zm-11 1L8.5 8.5l.94-2.06 2.06-.94-2.06-.94L8.5 2.5l-.94 2.06-2.06.94zm10 10l.94 2.06.94-2.06 2.06-.94-2.06-.94-.94-2.06-.94 2.06-2.06.94z\"/><path d=\"M17.41 7.96l-1.37-1.37c-.4-.4-.92-.59-1.43-.59-.52 0-1.04.2-1.43.59L10.3 9.45l-7.72 7.72c-.78.78-.78 2.05 0 2.83L4 21.41c.39.39.9.59 1.41.59.51 0 1.02-.2 1.41-.59l7.78-7.78 2.81-2.81c.8-.78.8-2.07 0-2.86zM5.41 20L4 18.59l7.72-7.72 1.47 1.35L5.41 20z\"/>\n",
              "  </svg>\n",
              "      </button>\n",
              "      \n",
              "  <style>\n",
              "    .colab-df-container {\n",
              "      display:flex;\n",
              "      flex-wrap:wrap;\n",
              "      gap: 12px;\n",
              "    }\n",
              "\n",
              "    .colab-df-convert {\n",
              "      background-color: #E8F0FE;\n",
              "      border: none;\n",
              "      border-radius: 50%;\n",
              "      cursor: pointer;\n",
              "      display: none;\n",
              "      fill: #1967D2;\n",
              "      height: 32px;\n",
              "      padding: 0 0 0 0;\n",
              "      width: 32px;\n",
              "    }\n",
              "\n",
              "    .colab-df-convert:hover {\n",
              "      background-color: #E2EBFA;\n",
              "      box-shadow: 0px 1px 2px rgba(60, 64, 67, 0.3), 0px 1px 3px 1px rgba(60, 64, 67, 0.15);\n",
              "      fill: #174EA6;\n",
              "    }\n",
              "\n",
              "    [theme=dark] .colab-df-convert {\n",
              "      background-color: #3B4455;\n",
              "      fill: #D2E3FC;\n",
              "    }\n",
              "\n",
              "    [theme=dark] .colab-df-convert:hover {\n",
              "      background-color: #434B5C;\n",
              "      box-shadow: 0px 1px 3px 1px rgba(0, 0, 0, 0.15);\n",
              "      filter: drop-shadow(0px 1px 2px rgba(0, 0, 0, 0.3));\n",
              "      fill: #FFFFFF;\n",
              "    }\n",
              "  </style>\n",
              "\n",
              "      <script>\n",
              "        const buttonEl =\n",
              "          document.querySelector('#df-ce9a41e5-8628-4099-bb4d-70ea565654cd button.colab-df-convert');\n",
              "        buttonEl.style.display =\n",
              "          google.colab.kernel.accessAllowed ? 'block' : 'none';\n",
              "\n",
              "        async function convertToInteractive(key) {\n",
              "          const element = document.querySelector('#df-ce9a41e5-8628-4099-bb4d-70ea565654cd');\n",
              "          const dataTable =\n",
              "            await google.colab.kernel.invokeFunction('convertToInteractive',\n",
              "                                                     [key], {});\n",
              "          if (!dataTable) return;\n",
              "\n",
              "          const docLinkHtml = 'Like what you see? Visit the ' +\n",
              "            '<a target=\"_blank\" href=https://colab.research.google.com/notebooks/data_table.ipynb>data table notebook</a>'\n",
              "            + ' to learn more about interactive tables.';\n",
              "          element.innerHTML = '';\n",
              "          dataTable['output_type'] = 'display_data';\n",
              "          await google.colab.output.renderOutput(dataTable, element);\n",
              "          const docLink = document.createElement('div');\n",
              "          docLink.innerHTML = docLinkHtml;\n",
              "          element.appendChild(docLink);\n",
              "        }\n",
              "      </script>\n",
              "    </div>\n",
              "  </div>\n",
              "  "
            ]
          },
          "metadata": {},
          "execution_count": 176
        }
      ]
    },
    {
      "cell_type": "code",
      "source": [
        "# Moda\n",
        "df.mode()"
      ],
      "metadata": {
        "colab": {
          "base_uri": "https://localhost:8080/",
          "height": 505
        },
        "id": "l3TF3qQussAW",
        "outputId": "44c2643c-ab3c-4522-c92b-232545735d0f"
      },
      "execution_count": 177,
      "outputs": [
        {
          "output_type": "execute_result",
          "data": {
            "text/plain": [
              "      Contrato Sexo  IDADE_RECEB_CTR  IDADE_VENC_DEB  IDADE_DT_ASSOC   Uf  \\\n",
              "0        49644    F             42.0            41.0            37.0   SP   \n",
              "1        63110  NaN              NaN             NaN             NaN  NaN   \n",
              "2        63707  NaN              NaN             NaN             NaN  NaN   \n",
              "3        65968  NaN              NaN             NaN             NaN  NaN   \n",
              "4        82535  NaN              NaN             NaN             NaN  NaN   \n",
              "...        ...  ...              ...             ...             ...  ...   \n",
              "4995  27517207  NaN              NaN             NaN             NaN  NaN   \n",
              "4996  27517428  NaN              NaN             NaN             NaN  NaN   \n",
              "4997  27530486  NaN              NaN             NaN             NaN  NaN   \n",
              "4998  27617709  NaN              NaN             NaN             NaN  NaN   \n",
              "4999  27656613  NaN              NaN             NaN             NaN  NaN   \n",
              "\n",
              "     EstadoCivil   Profissao         Carteira ATRASO_NO_RECB_CTRO  \\\n",
              "0      Casado(a)  APOSENTADA  PDD (121 a 360)               -1.00   \n",
              "1            NaN         NaN              NaN                 NaN   \n",
              "2            NaN         NaN              NaN                 NaN   \n",
              "3            NaN         NaN              NaN                 NaN   \n",
              "4            NaN         NaN              NaN                 NaN   \n",
              "...          ...         ...              ...                 ...   \n",
              "4995         NaN         NaN              NaN                 NaN   \n",
              "4996         NaN         NaN              NaN                 NaN   \n",
              "4997         NaN         NaN              NaN                 NaN   \n",
              "4998         NaN         NaN              NaN                 NaN   \n",
              "4999         NaN         NaN              NaN                 NaN   \n",
              "\n",
              "     TMP_ATRASO_CLIENTE  qtdeTItulo VLR_DEBITO  QTDE_TENTATIVAS_CTTO  \\\n",
              "0                 -1.00         1.0         -1                  -1.0   \n",
              "1                   NaN         NaN        NaN                   NaN   \n",
              "2                   NaN         NaN        NaN                   NaN   \n",
              "3                   NaN         NaN        NaN                   NaN   \n",
              "4                   NaN         NaN        NaN                   NaN   \n",
              "...                 ...         ...        ...                   ...   \n",
              "4995                NaN         NaN        NaN                   NaN   \n",
              "4996                NaN         NaN        NaN                   NaN   \n",
              "4997                NaN         NaN        NaN                   NaN   \n",
              "4998                NaN         NaN        NaN                   NaN   \n",
              "4999                NaN         NaN        NaN                   NaN   \n",
              "\n",
              "      TARGET_NUM TARGET_DISC            ALEATORIO CONJUNTO  \n",
              "0            0.0         MAU  0.00060943086864296      TRT  \n",
              "1            NaN         NaN  0.00064365477393369      NaN  \n",
              "2            NaN         NaN   0.0014999404989809      NaN  \n",
              "3            NaN         NaN   0.0018246688871694      NaN  \n",
              "4            NaN         NaN   0.0019578491933413      NaN  \n",
              "...          ...         ...                  ...      ...  \n",
              "4995         NaN         NaN     0.99921312585043      NaN  \n",
              "4996         NaN         NaN     0.99949351407983      NaN  \n",
              "4997         NaN         NaN     0.99950061633439      NaN  \n",
              "4998         NaN         NaN     0.99993512506277      NaN  \n",
              "4999         NaN         NaN   6.9965376211845E-5      NaN  \n",
              "\n",
              "[5000 rows x 18 columns]"
            ],
            "text/html": [
              "\n",
              "  <div id=\"df-e2baebc1-627a-4b71-94f0-4ce68a411478\">\n",
              "    <div class=\"colab-df-container\">\n",
              "      <div>\n",
              "<style scoped>\n",
              "    .dataframe tbody tr th:only-of-type {\n",
              "        vertical-align: middle;\n",
              "    }\n",
              "\n",
              "    .dataframe tbody tr th {\n",
              "        vertical-align: top;\n",
              "    }\n",
              "\n",
              "    .dataframe thead th {\n",
              "        text-align: right;\n",
              "    }\n",
              "</style>\n",
              "<table border=\"1\" class=\"dataframe\">\n",
              "  <thead>\n",
              "    <tr style=\"text-align: right;\">\n",
              "      <th></th>\n",
              "      <th>Contrato</th>\n",
              "      <th>Sexo</th>\n",
              "      <th>IDADE_RECEB_CTR</th>\n",
              "      <th>IDADE_VENC_DEB</th>\n",
              "      <th>IDADE_DT_ASSOC</th>\n",
              "      <th>Uf</th>\n",
              "      <th>EstadoCivil</th>\n",
              "      <th>Profissao</th>\n",
              "      <th>Carteira</th>\n",
              "      <th>ATRASO_NO_RECB_CTRO</th>\n",
              "      <th>TMP_ATRASO_CLIENTE</th>\n",
              "      <th>qtdeTItulo</th>\n",
              "      <th>VLR_DEBITO</th>\n",
              "      <th>QTDE_TENTATIVAS_CTTO</th>\n",
              "      <th>TARGET_NUM</th>\n",
              "      <th>TARGET_DISC</th>\n",
              "      <th>ALEATORIO</th>\n",
              "      <th>CONJUNTO</th>\n",
              "    </tr>\n",
              "  </thead>\n",
              "  <tbody>\n",
              "    <tr>\n",
              "      <th>0</th>\n",
              "      <td>49644</td>\n",
              "      <td>F</td>\n",
              "      <td>42.0</td>\n",
              "      <td>41.0</td>\n",
              "      <td>37.0</td>\n",
              "      <td>SP</td>\n",
              "      <td>Casado(a)</td>\n",
              "      <td>APOSENTADA</td>\n",
              "      <td>PDD (121 a 360)</td>\n",
              "      <td>-1.00</td>\n",
              "      <td>-1.00</td>\n",
              "      <td>1.0</td>\n",
              "      <td>-1</td>\n",
              "      <td>-1.0</td>\n",
              "      <td>0.0</td>\n",
              "      <td>MAU</td>\n",
              "      <td>0.00060943086864296</td>\n",
              "      <td>TRT</td>\n",
              "    </tr>\n",
              "    <tr>\n",
              "      <th>1</th>\n",
              "      <td>63110</td>\n",
              "      <td>NaN</td>\n",
              "      <td>NaN</td>\n",
              "      <td>NaN</td>\n",
              "      <td>NaN</td>\n",
              "      <td>NaN</td>\n",
              "      <td>NaN</td>\n",
              "      <td>NaN</td>\n",
              "      <td>NaN</td>\n",
              "      <td>NaN</td>\n",
              "      <td>NaN</td>\n",
              "      <td>NaN</td>\n",
              "      <td>NaN</td>\n",
              "      <td>NaN</td>\n",
              "      <td>NaN</td>\n",
              "      <td>NaN</td>\n",
              "      <td>0.00064365477393369</td>\n",
              "      <td>NaN</td>\n",
              "    </tr>\n",
              "    <tr>\n",
              "      <th>2</th>\n",
              "      <td>63707</td>\n",
              "      <td>NaN</td>\n",
              "      <td>NaN</td>\n",
              "      <td>NaN</td>\n",
              "      <td>NaN</td>\n",
              "      <td>NaN</td>\n",
              "      <td>NaN</td>\n",
              "      <td>NaN</td>\n",
              "      <td>NaN</td>\n",
              "      <td>NaN</td>\n",
              "      <td>NaN</td>\n",
              "      <td>NaN</td>\n",
              "      <td>NaN</td>\n",
              "      <td>NaN</td>\n",
              "      <td>NaN</td>\n",
              "      <td>NaN</td>\n",
              "      <td>0.0014999404989809</td>\n",
              "      <td>NaN</td>\n",
              "    </tr>\n",
              "    <tr>\n",
              "      <th>3</th>\n",
              "      <td>65968</td>\n",
              "      <td>NaN</td>\n",
              "      <td>NaN</td>\n",
              "      <td>NaN</td>\n",
              "      <td>NaN</td>\n",
              "      <td>NaN</td>\n",
              "      <td>NaN</td>\n",
              "      <td>NaN</td>\n",
              "      <td>NaN</td>\n",
              "      <td>NaN</td>\n",
              "      <td>NaN</td>\n",
              "      <td>NaN</td>\n",
              "      <td>NaN</td>\n",
              "      <td>NaN</td>\n",
              "      <td>NaN</td>\n",
              "      <td>NaN</td>\n",
              "      <td>0.0018246688871694</td>\n",
              "      <td>NaN</td>\n",
              "    </tr>\n",
              "    <tr>\n",
              "      <th>4</th>\n",
              "      <td>82535</td>\n",
              "      <td>NaN</td>\n",
              "      <td>NaN</td>\n",
              "      <td>NaN</td>\n",
              "      <td>NaN</td>\n",
              "      <td>NaN</td>\n",
              "      <td>NaN</td>\n",
              "      <td>NaN</td>\n",
              "      <td>NaN</td>\n",
              "      <td>NaN</td>\n",
              "      <td>NaN</td>\n",
              "      <td>NaN</td>\n",
              "      <td>NaN</td>\n",
              "      <td>NaN</td>\n",
              "      <td>NaN</td>\n",
              "      <td>NaN</td>\n",
              "      <td>0.0019578491933413</td>\n",
              "      <td>NaN</td>\n",
              "    </tr>\n",
              "    <tr>\n",
              "      <th>...</th>\n",
              "      <td>...</td>\n",
              "      <td>...</td>\n",
              "      <td>...</td>\n",
              "      <td>...</td>\n",
              "      <td>...</td>\n",
              "      <td>...</td>\n",
              "      <td>...</td>\n",
              "      <td>...</td>\n",
              "      <td>...</td>\n",
              "      <td>...</td>\n",
              "      <td>...</td>\n",
              "      <td>...</td>\n",
              "      <td>...</td>\n",
              "      <td>...</td>\n",
              "      <td>...</td>\n",
              "      <td>...</td>\n",
              "      <td>...</td>\n",
              "      <td>...</td>\n",
              "    </tr>\n",
              "    <tr>\n",
              "      <th>4995</th>\n",
              "      <td>27517207</td>\n",
              "      <td>NaN</td>\n",
              "      <td>NaN</td>\n",
              "      <td>NaN</td>\n",
              "      <td>NaN</td>\n",
              "      <td>NaN</td>\n",
              "      <td>NaN</td>\n",
              "      <td>NaN</td>\n",
              "      <td>NaN</td>\n",
              "      <td>NaN</td>\n",
              "      <td>NaN</td>\n",
              "      <td>NaN</td>\n",
              "      <td>NaN</td>\n",
              "      <td>NaN</td>\n",
              "      <td>NaN</td>\n",
              "      <td>NaN</td>\n",
              "      <td>0.99921312585043</td>\n",
              "      <td>NaN</td>\n",
              "    </tr>\n",
              "    <tr>\n",
              "      <th>4996</th>\n",
              "      <td>27517428</td>\n",
              "      <td>NaN</td>\n",
              "      <td>NaN</td>\n",
              "      <td>NaN</td>\n",
              "      <td>NaN</td>\n",
              "      <td>NaN</td>\n",
              "      <td>NaN</td>\n",
              "      <td>NaN</td>\n",
              "      <td>NaN</td>\n",
              "      <td>NaN</td>\n",
              "      <td>NaN</td>\n",
              "      <td>NaN</td>\n",
              "      <td>NaN</td>\n",
              "      <td>NaN</td>\n",
              "      <td>NaN</td>\n",
              "      <td>NaN</td>\n",
              "      <td>0.99949351407983</td>\n",
              "      <td>NaN</td>\n",
              "    </tr>\n",
              "    <tr>\n",
              "      <th>4997</th>\n",
              "      <td>27530486</td>\n",
              "      <td>NaN</td>\n",
              "      <td>NaN</td>\n",
              "      <td>NaN</td>\n",
              "      <td>NaN</td>\n",
              "      <td>NaN</td>\n",
              "      <td>NaN</td>\n",
              "      <td>NaN</td>\n",
              "      <td>NaN</td>\n",
              "      <td>NaN</td>\n",
              "      <td>NaN</td>\n",
              "      <td>NaN</td>\n",
              "      <td>NaN</td>\n",
              "      <td>NaN</td>\n",
              "      <td>NaN</td>\n",
              "      <td>NaN</td>\n",
              "      <td>0.99950061633439</td>\n",
              "      <td>NaN</td>\n",
              "    </tr>\n",
              "    <tr>\n",
              "      <th>4998</th>\n",
              "      <td>27617709</td>\n",
              "      <td>NaN</td>\n",
              "      <td>NaN</td>\n",
              "      <td>NaN</td>\n",
              "      <td>NaN</td>\n",
              "      <td>NaN</td>\n",
              "      <td>NaN</td>\n",
              "      <td>NaN</td>\n",
              "      <td>NaN</td>\n",
              "      <td>NaN</td>\n",
              "      <td>NaN</td>\n",
              "      <td>NaN</td>\n",
              "      <td>NaN</td>\n",
              "      <td>NaN</td>\n",
              "      <td>NaN</td>\n",
              "      <td>NaN</td>\n",
              "      <td>0.99993512506277</td>\n",
              "      <td>NaN</td>\n",
              "    </tr>\n",
              "    <tr>\n",
              "      <th>4999</th>\n",
              "      <td>27656613</td>\n",
              "      <td>NaN</td>\n",
              "      <td>NaN</td>\n",
              "      <td>NaN</td>\n",
              "      <td>NaN</td>\n",
              "      <td>NaN</td>\n",
              "      <td>NaN</td>\n",
              "      <td>NaN</td>\n",
              "      <td>NaN</td>\n",
              "      <td>NaN</td>\n",
              "      <td>NaN</td>\n",
              "      <td>NaN</td>\n",
              "      <td>NaN</td>\n",
              "      <td>NaN</td>\n",
              "      <td>NaN</td>\n",
              "      <td>NaN</td>\n",
              "      <td>6.9965376211845E-5</td>\n",
              "      <td>NaN</td>\n",
              "    </tr>\n",
              "  </tbody>\n",
              "</table>\n",
              "<p>5000 rows × 18 columns</p>\n",
              "</div>\n",
              "      <button class=\"colab-df-convert\" onclick=\"convertToInteractive('df-e2baebc1-627a-4b71-94f0-4ce68a411478')\"\n",
              "              title=\"Convert this dataframe to an interactive table.\"\n",
              "              style=\"display:none;\">\n",
              "        \n",
              "  <svg xmlns=\"http://www.w3.org/2000/svg\" height=\"24px\"viewBox=\"0 0 24 24\"\n",
              "       width=\"24px\">\n",
              "    <path d=\"M0 0h24v24H0V0z\" fill=\"none\"/>\n",
              "    <path d=\"M18.56 5.44l.94 2.06.94-2.06 2.06-.94-2.06-.94-.94-2.06-.94 2.06-2.06.94zm-11 1L8.5 8.5l.94-2.06 2.06-.94-2.06-.94L8.5 2.5l-.94 2.06-2.06.94zm10 10l.94 2.06.94-2.06 2.06-.94-2.06-.94-.94-2.06-.94 2.06-2.06.94z\"/><path d=\"M17.41 7.96l-1.37-1.37c-.4-.4-.92-.59-1.43-.59-.52 0-1.04.2-1.43.59L10.3 9.45l-7.72 7.72c-.78.78-.78 2.05 0 2.83L4 21.41c.39.39.9.59 1.41.59.51 0 1.02-.2 1.41-.59l7.78-7.78 2.81-2.81c.8-.78.8-2.07 0-2.86zM5.41 20L4 18.59l7.72-7.72 1.47 1.35L5.41 20z\"/>\n",
              "  </svg>\n",
              "      </button>\n",
              "      \n",
              "  <style>\n",
              "    .colab-df-container {\n",
              "      display:flex;\n",
              "      flex-wrap:wrap;\n",
              "      gap: 12px;\n",
              "    }\n",
              "\n",
              "    .colab-df-convert {\n",
              "      background-color: #E8F0FE;\n",
              "      border: none;\n",
              "      border-radius: 50%;\n",
              "      cursor: pointer;\n",
              "      display: none;\n",
              "      fill: #1967D2;\n",
              "      height: 32px;\n",
              "      padding: 0 0 0 0;\n",
              "      width: 32px;\n",
              "    }\n",
              "\n",
              "    .colab-df-convert:hover {\n",
              "      background-color: #E2EBFA;\n",
              "      box-shadow: 0px 1px 2px rgba(60, 64, 67, 0.3), 0px 1px 3px 1px rgba(60, 64, 67, 0.15);\n",
              "      fill: #174EA6;\n",
              "    }\n",
              "\n",
              "    [theme=dark] .colab-df-convert {\n",
              "      background-color: #3B4455;\n",
              "      fill: #D2E3FC;\n",
              "    }\n",
              "\n",
              "    [theme=dark] .colab-df-convert:hover {\n",
              "      background-color: #434B5C;\n",
              "      box-shadow: 0px 1px 3px 1px rgba(0, 0, 0, 0.15);\n",
              "      filter: drop-shadow(0px 1px 2px rgba(0, 0, 0, 0.3));\n",
              "      fill: #FFFFFF;\n",
              "    }\n",
              "  </style>\n",
              "\n",
              "      <script>\n",
              "        const buttonEl =\n",
              "          document.querySelector('#df-e2baebc1-627a-4b71-94f0-4ce68a411478 button.colab-df-convert');\n",
              "        buttonEl.style.display =\n",
              "          google.colab.kernel.accessAllowed ? 'block' : 'none';\n",
              "\n",
              "        async function convertToInteractive(key) {\n",
              "          const element = document.querySelector('#df-e2baebc1-627a-4b71-94f0-4ce68a411478');\n",
              "          const dataTable =\n",
              "            await google.colab.kernel.invokeFunction('convertToInteractive',\n",
              "                                                     [key], {});\n",
              "          if (!dataTable) return;\n",
              "\n",
              "          const docLinkHtml = 'Like what you see? Visit the ' +\n",
              "            '<a target=\"_blank\" href=https://colab.research.google.com/notebooks/data_table.ipynb>data table notebook</a>'\n",
              "            + ' to learn more about interactive tables.';\n",
              "          element.innerHTML = '';\n",
              "          dataTable['output_type'] = 'display_data';\n",
              "          await google.colab.output.renderOutput(dataTable, element);\n",
              "          const docLink = document.createElement('div');\n",
              "          docLink.innerHTML = docLinkHtml;\n",
              "          element.appendChild(docLink);\n",
              "        }\n",
              "      </script>\n",
              "    </div>\n",
              "  </div>\n",
              "  "
            ]
          },
          "metadata": {},
          "execution_count": 177
        }
      ]
    },
    {
      "cell_type": "markdown",
      "source": [
        "### Distribuição dos dados"
      ],
      "metadata": {
        "id": "tqvpgdAXuI_J"
      }
    },
    {
      "cell_type": "code",
      "source": [
        "# Gráfico de densidade\n",
        "# Pico de dados por volta de 0.000 a 0.0150\n",
        "df['QTDE_TENTATIVAS_CTTO'].plot(kind = 'density', figsize = (10, 10))"
      ],
      "metadata": {
        "colab": {
          "base_uri": "https://localhost:8080/",
          "height": 610
        },
        "id": "MKr73oWDuFlu",
        "outputId": "287fc8e0-df2f-407b-e170-062b782d9e84"
      },
      "execution_count": 178,
      "outputs": [
        {
          "output_type": "execute_result",
          "data": {
            "text/plain": [
              "<matplotlib.axes._subplots.AxesSubplot at 0x7fd4c522c3d0>"
            ]
          },
          "metadata": {},
          "execution_count": 178
        },
        {
          "output_type": "display_data",
          "data": {
            "text/plain": [
              "<Figure size 720x720 with 1 Axes>"
            ],
            "image/png": "[encoded data removed]"
          },
          "metadata": {
            "needs_background": "light"
          }
        }
      ]
    },
    {
      "cell_type": "code",
      "source": [
        "# Medidas de variabilidade\n",
        "df['QTDE_TENTATIVAS_CTTO'].plot(kind = 'density', figsize = (10, 10))\n",
        "\n",
        "# Adicionando linha para a média representada pela cor azul\n",
        "plt.vlines(df['QTDE_TENTATIVAS_CTTO'].mean(), ymin=0, ymax=0.0150, linewidth=5.0, color=\"blue\")\n",
        "\n",
        "# Adicionando linha para a mediana representada pela cor vermelha\n",
        "plt.vlines(df['QTDE_TENTATIVAS_CTTO'].median(), ymin=0, ymax=0.0150, linewidth=5.0, color=\"red\")\n",
        "\n",
        "# As medidas focadas para o lado direito, mostrando os dados mais focados na média"
      ],
      "metadata": {
        "colab": {
          "base_uri": "https://localhost:8080/",
          "height": 610
        },
        "id": "W8Ckbx52zJ9k",
        "outputId": "f71d9499-df1e-4a68-e35e-64376929bd31"
      },
      "execution_count": 179,
      "outputs": [
        {
          "output_type": "execute_result",
          "data": {
            "text/plain": [
              "<matplotlib.collections.LineCollection at 0x7fd4c50938d0>"
            ]
          },
          "metadata": {},
          "execution_count": 179
        },
        {
          "output_type": "display_data",
          "data": {
            "text/plain": [
              "<Figure size 720x720 with 1 Axes>"
            ],
            "image/png": "[encoded data removed]"
          },
          "metadata": {
            "needs_background": "light"
          }
        }
      ]
    },
    {
      "cell_type": "markdown",
      "source": [
        "### Medidas de varialbilidade"
      ],
      "metadata": {
        "id": "IBIWrrfX19is"
      }
    },
    {
      "cell_type": "code",
      "source": [
        "# Variação\n",
        "max(df['QTDE_TENTATIVAS_CTTO']) - min(df['QTDE_TENTATIVAS_CTTO'])"
      ],
      "metadata": {
        "colab": {
          "base_uri": "https://localhost:8080/"
        },
        "id": "tLhUzc5e2BaP",
        "outputId": "4e123936-7d43-47c3-a05c-657d338b47f1"
      },
      "execution_count": 181,
      "outputs": [
        {
          "output_type": "execute_result",
          "data": {
            "text/plain": [
              "279"
            ]
          },
          "metadata": {},
          "execution_count": 181
        }
      ]
    },
    {
      "cell_type": "code",
      "source": [
        "# Distribuição geral da tabela\n",
        "# Contagem / Média / Desvio padrão / Valor mínimo / Quantile 25 / Quantil 50 / Quartil 75 / Máximo\n",
        "df.describe()"
      ],
      "metadata": {
        "colab": {
          "base_uri": "https://localhost:8080/",
          "height": 300
        },
        "id": "FWQr3ZeQAAEo",
        "outputId": "83d2064a-8622-49cf-980a-ff7f0753e72f"
      },
      "execution_count": 187,
      "outputs": [
        {
          "output_type": "execute_result",
          "data": {
            "text/plain": [
              "           Contrato  IDADE_RECEB_CTR  IDADE_VENC_DEB  IDADE_DT_ASSOC  \\\n",
              "count  5.000000e+03      5000.000000     5000.000000     5000.000000   \n",
              "mean   1.842410e+07        39.374400       36.300200       33.880800   \n",
              "std    6.765830e+06         8.814747       11.652212        9.080787   \n",
              "min    4.964400e+04        -1.000000       -1.000000       -1.000000   \n",
              "25%    1.493717e+07        41.000000       39.000000       33.000000   \n",
              "50%    2.036369e+07        41.000000       40.000000       37.000000   \n",
              "75%    2.345459e+07        42.000000       41.000000       39.000000   \n",
              "max    2.765661e+07        42.000000       42.000000       41.000000   \n",
              "\n",
              "       qtdeTItulo  QTDE_TENTATIVAS_CTTO   TARGET_NUM  \n",
              "count   5000.0000           5000.000000  5000.000000  \n",
              "mean       8.6082             38.037200     0.109600  \n",
              "std        8.7718             34.373201     0.312422  \n",
              "min       -1.0000             -1.000000     0.000000  \n",
              "25%        2.0000             13.000000     0.000000  \n",
              "50%        7.0000             29.000000     0.000000  \n",
              "75%       12.0000             54.000000     0.000000  \n",
              "max       81.0000            278.000000     1.000000  "
            ],
            "text/html": [
              "\n",
              "  <div id=\"df-1f7d8a8f-053b-4579-9658-b97c8c6d6141\">\n",
              "    <div class=\"colab-df-container\">\n",
              "      <div>\n",
              "<style scoped>\n",
              "    .dataframe tbody tr th:only-of-type {\n",
              "        vertical-align: middle;\n",
              "    }\n",
              "\n",
              "    .dataframe tbody tr th {\n",
              "        vertical-align: top;\n",
              "    }\n",
              "\n",
              "    .dataframe thead th {\n",
              "        text-align: right;\n",
              "    }\n",
              "</style>\n",
              "<table border=\"1\" class=\"dataframe\">\n",
              "  <thead>\n",
              "    <tr style=\"text-align: right;\">\n",
              "      <th></th>\n",
              "      <th>Contrato</th>\n",
              "      <th>IDADE_RECEB_CTR</th>\n",
              "      <th>IDADE_VENC_DEB</th>\n",
              "      <th>IDADE_DT_ASSOC</th>\n",
              "      <th>qtdeTItulo</th>\n",
              "      <th>QTDE_TENTATIVAS_CTTO</th>\n",
              "      <th>TARGET_NUM</th>\n",
              "    </tr>\n",
              "  </thead>\n",
              "  <tbody>\n",
              "    <tr>\n",
              "      <th>count</th>\n",
              "      <td>5.000000e+03</td>\n",
              "      <td>5000.000000</td>\n",
              "      <td>5000.000000</td>\n",
              "      <td>5000.000000</td>\n",
              "      <td>5000.0000</td>\n",
              "      <td>5000.000000</td>\n",
              "      <td>5000.000000</td>\n",
              "    </tr>\n",
              "    <tr>\n",
              "      <th>mean</th>\n",
              "      <td>1.842410e+07</td>\n",
              "      <td>39.374400</td>\n",
              "      <td>36.300200</td>\n",
              "      <td>33.880800</td>\n",
              "      <td>8.6082</td>\n",
              "      <td>38.037200</td>\n",
              "      <td>0.109600</td>\n",
              "    </tr>\n",
              "    <tr>\n",
              "      <th>std</th>\n",
              "      <td>6.765830e+06</td>\n",
              "      <td>8.814747</td>\n",
              "      <td>11.652212</td>\n",
              "      <td>9.080787</td>\n",
              "      <td>8.7718</td>\n",
              "      <td>34.373201</td>\n",
              "      <td>0.312422</td>\n",
              "    </tr>\n",
              "    <tr>\n",
              "      <th>min</th>\n",
              "      <td>4.964400e+04</td>\n",
              "      <td>-1.000000</td>\n",
              "      <td>-1.000000</td>\n",
              "      <td>-1.000000</td>\n",
              "      <td>-1.0000</td>\n",
              "      <td>-1.000000</td>\n",
              "      <td>0.000000</td>\n",
              "    </tr>\n",
              "    <tr>\n",
              "      <th>25%</th>\n",
              "      <td>1.493717e+07</td>\n",
              "      <td>41.000000</td>\n",
              "      <td>39.000000</td>\n",
              "      <td>33.000000</td>\n",
              "      <td>2.0000</td>\n",
              "      <td>13.000000</td>\n",
              "      <td>0.000000</td>\n",
              "    </tr>\n",
              "    <tr>\n",
              "      <th>50%</th>\n",
              "      <td>2.036369e+07</td>\n",
              "      <td>41.000000</td>\n",
              "      <td>40.000000</td>\n",
              "      <td>37.000000</td>\n",
              "      <td>7.0000</td>\n",
              "      <td>29.000000</td>\n",
              "      <td>0.000000</td>\n",
              "    </tr>\n",
              "    <tr>\n",
              "      <th>75%</th>\n",
              "      <td>2.345459e+07</td>\n",
              "      <td>42.000000</td>\n",
              "      <td>41.000000</td>\n",
              "      <td>39.000000</td>\n",
              "      <td>12.0000</td>\n",
              "      <td>54.000000</td>\n",
              "      <td>0.000000</td>\n",
              "    </tr>\n",
              "    <tr>\n",
              "      <th>max</th>\n",
              "      <td>2.765661e+07</td>\n",
              "      <td>42.000000</td>\n",
              "      <td>42.000000</td>\n",
              "      <td>41.000000</td>\n",
              "      <td>81.0000</td>\n",
              "      <td>278.000000</td>\n",
              "      <td>1.000000</td>\n",
              "    </tr>\n",
              "  </tbody>\n",
              "</table>\n",
              "</div>\n",
              "      <button class=\"colab-df-convert\" onclick=\"convertToInteractive('df-1f7d8a8f-053b-4579-9658-b97c8c6d6141')\"\n",
              "              title=\"Convert this dataframe to an interactive table.\"\n",
              "              style=\"display:none;\">\n",
              "        \n",
              "  <svg xmlns=\"http://www.w3.org/2000/svg\" height=\"24px\"viewBox=\"0 0 24 24\"\n",
              "       width=\"24px\">\n",
              "    <path d=\"M0 0h24v24H0V0z\" fill=\"none\"/>\n",
              "    <path d=\"M18.56 5.44l.94 2.06.94-2.06 2.06-.94-2.06-.94-.94-2.06-.94 2.06-2.06.94zm-11 1L8.5 8.5l.94-2.06 2.06-.94-2.06-.94L8.5 2.5l-.94 2.06-2.06.94zm10 10l.94 2.06.94-2.06 2.06-.94-2.06-.94-.94-2.06-.94 2.06-2.06.94z\"/><path d=\"M17.41 7.96l-1.37-1.37c-.4-.4-.92-.59-1.43-.59-.52 0-1.04.2-1.43.59L10.3 9.45l-7.72 7.72c-.78.78-.78 2.05 0 2.83L4 21.41c.39.39.9.59 1.41.59.51 0 1.02-.2 1.41-.59l7.78-7.78 2.81-2.81c.8-.78.8-2.07 0-2.86zM5.41 20L4 18.59l7.72-7.72 1.47 1.35L5.41 20z\"/>\n",
              "  </svg>\n",
              "      </button>\n",
              "      \n",
              "  <style>\n",
              "    .colab-df-container {\n",
              "      display:flex;\n",
              "      flex-wrap:wrap;\n",
              "      gap: 12px;\n",
              "    }\n",
              "\n",
              "    .colab-df-convert {\n",
              "      background-color: #E8F0FE;\n",
              "      border: none;\n",
              "      border-radius: 50%;\n",
              "      cursor: pointer;\n",
              "      display: none;\n",
              "      fill: #1967D2;\n",
              "      height: 32px;\n",
              "      padding: 0 0 0 0;\n",
              "      width: 32px;\n",
              "    }\n",
              "\n",
              "    .colab-df-convert:hover {\n",
              "      background-color: #E2EBFA;\n",
              "      box-shadow: 0px 1px 2px rgba(60, 64, 67, 0.3), 0px 1px 3px 1px rgba(60, 64, 67, 0.15);\n",
              "      fill: #174EA6;\n",
              "    }\n",
              "\n",
              "    [theme=dark] .colab-df-convert {\n",
              "      background-color: #3B4455;\n",
              "      fill: #D2E3FC;\n",
              "    }\n",
              "\n",
              "    [theme=dark] .colab-df-convert:hover {\n",
              "      background-color: #434B5C;\n",
              "      box-shadow: 0px 1px 3px 1px rgba(0, 0, 0, 0.15);\n",
              "      filter: drop-shadow(0px 1px 2px rgba(0, 0, 0, 0.3));\n",
              "      fill: #FFFFFF;\n",
              "    }\n",
              "  </style>\n",
              "\n",
              "      <script>\n",
              "        const buttonEl =\n",
              "          document.querySelector('#df-1f7d8a8f-053b-4579-9658-b97c8c6d6141 button.colab-df-convert');\n",
              "        buttonEl.style.display =\n",
              "          google.colab.kernel.accessAllowed ? 'block' : 'none';\n",
              "\n",
              "        async function convertToInteractive(key) {\n",
              "          const element = document.querySelector('#df-1f7d8a8f-053b-4579-9658-b97c8c6d6141');\n",
              "          const dataTable =\n",
              "            await google.colab.kernel.invokeFunction('convertToInteractive',\n",
              "                                                     [key], {});\n",
              "          if (!dataTable) return;\n",
              "\n",
              "          const docLinkHtml = 'Like what you see? Visit the ' +\n",
              "            '<a target=\"_blank\" href=https://colab.research.google.com/notebooks/data_table.ipynb>data table notebook</a>'\n",
              "            + ' to learn more about interactive tables.';\n",
              "          element.innerHTML = '';\n",
              "          dataTable['output_type'] = 'display_data';\n",
              "          await google.colab.output.renderOutput(dataTable, element);\n",
              "          const docLink = document.createElement('div');\n",
              "          docLink.innerHTML = docLinkHtml;\n",
              "          element.appendChild(docLink);\n",
              "        }\n",
              "      </script>\n",
              "    </div>\n",
              "  </div>\n",
              "  "
            ]
          },
          "metadata": {},
          "execution_count": 187
        }
      ]
    },
    {
      "cell_type": "markdown",
      "source": [
        "### Relacionamento de variáveis"
      ],
      "metadata": {
        "id": "53pTZninBSM3"
      }
    },
    {
      "cell_type": "code",
      "source": [
        "# Testando a correlação de duas variáveis\n",
        "# Testando Idade de Recebimento e Quantidade de tentativas\n",
        "df['IDADE_RECEB_CTR'].corr(df['QTDE_TENTATIVAS_CTTO'])"
      ],
      "metadata": {
        "colab": {
          "base_uri": "https://localhost:8080/"
        },
        "id": "Q3x8T2rnBNax",
        "outputId": "5e0b0995-b66a-4aa3-bc70-a878f914f10f"
      },
      "execution_count": 189,
      "outputs": [
        {
          "output_type": "execute_result",
          "data": {
            "text/plain": [
              "0.2685232446952119"
            ]
          },
          "metadata": {},
          "execution_count": 189
        }
      ]
    },
    {
      "cell_type": "code",
      "source": [
        "# Gerando matriz de correlação entre todos as variáveis\n",
        "df.corr()"
      ],
      "metadata": {
        "colab": {
          "base_uri": "https://localhost:8080/",
          "height": 269
        },
        "id": "Bf3maXd0CFzX",
        "outputId": "4176aca1-c7d8-461f-8014-7cb84b2a1cf7"
      },
      "execution_count": 191,
      "outputs": [
        {
          "output_type": "execute_result",
          "data": {
            "text/plain": [
              "                      Contrato  IDADE_RECEB_CTR  IDADE_VENC_DEB  \\\n",
              "Contrato              1.000000        -0.008912        0.101426   \n",
              "IDADE_RECEB_CTR      -0.008912         1.000000        0.746994   \n",
              "IDADE_VENC_DEB        0.101426         0.746994        1.000000   \n",
              "IDADE_DT_ASSOC        0.505578         0.837474        0.641421   \n",
              "qtdeTItulo            0.123336         0.262111        0.326911   \n",
              "QTDE_TENTATIVAS_CTTO -0.029832         0.268523        0.273673   \n",
              "TARGET_NUM           -0.148470         0.010738       -0.357807   \n",
              "\n",
              "                      IDADE_DT_ASSOC  qtdeTItulo  QTDE_TENTATIVAS_CTTO  \\\n",
              "Contrato                    0.505578    0.123336             -0.029832   \n",
              "IDADE_RECEB_CTR             0.837474    0.262111              0.268523   \n",
              "IDADE_VENC_DEB              0.641421    0.326911              0.273673   \n",
              "IDADE_DT_ASSOC              1.000000    0.264156              0.196954   \n",
              "qtdeTItulo                  0.264156    1.000000              0.159550   \n",
              "QTDE_TENTATIVAS_CTTO        0.196954    0.159550              1.000000   \n",
              "TARGET_NUM                 -0.013374   -0.268274              0.040601   \n",
              "\n",
              "                      TARGET_NUM  \n",
              "Contrato               -0.148470  \n",
              "IDADE_RECEB_CTR         0.010738  \n",
              "IDADE_VENC_DEB         -0.357807  \n",
              "IDADE_DT_ASSOC         -0.013374  \n",
              "qtdeTItulo             -0.268274  \n",
              "QTDE_TENTATIVAS_CTTO    0.040601  \n",
              "TARGET_NUM              1.000000  "
            ],
            "text/html": [
              "\n",
              "  <div id=\"df-1e95e866-67b2-40cf-948d-506a7966f05c\">\n",
              "    <div class=\"colab-df-container\">\n",
              "      <div>\n",
              "<style scoped>\n",
              "    .dataframe tbody tr th:only-of-type {\n",
              "        vertical-align: middle;\n",
              "    }\n",
              "\n",
              "    .dataframe tbody tr th {\n",
              "        vertical-align: top;\n",
              "    }\n",
              "\n",
              "    .dataframe thead th {\n",
              "        text-align: right;\n",
              "    }\n",
              "</style>\n",
              "<table border=\"1\" class=\"dataframe\">\n",
              "  <thead>\n",
              "    <tr style=\"text-align: right;\">\n",
              "      <th></th>\n",
              "      <th>Contrato</th>\n",
              "      <th>IDADE_RECEB_CTR</th>\n",
              "      <th>IDADE_VENC_DEB</th>\n",
              "      <th>IDADE_DT_ASSOC</th>\n",
              "      <th>qtdeTItulo</th>\n",
              "      <th>QTDE_TENTATIVAS_CTTO</th>\n",
              "      <th>TARGET_NUM</th>\n",
              "    </tr>\n",
              "  </thead>\n",
              "  <tbody>\n",
              "    <tr>\n",
              "      <th>Contrato</th>\n",
              "      <td>1.000000</td>\n",
              "      <td>-0.008912</td>\n",
              "      <td>0.101426</td>\n",
              "      <td>0.505578</td>\n",
              "      <td>0.123336</td>\n",
              "      <td>-0.029832</td>\n",
              "      <td>-0.148470</td>\n",
              "    </tr>\n",
              "    <tr>\n",
              "      <th>IDADE_RECEB_CTR</th>\n",
              "      <td>-0.008912</td>\n",
              "      <td>1.000000</td>\n",
              "      <td>0.746994</td>\n",
              "      <td>0.837474</td>\n",
              "      <td>0.262111</td>\n",
              "      <td>0.268523</td>\n",
              "      <td>0.010738</td>\n",
              "    </tr>\n",
              "    <tr>\n",
              "      <th>IDADE_VENC_DEB</th>\n",
              "      <td>0.101426</td>\n",
              "      <td>0.746994</td>\n",
              "      <td>1.000000</td>\n",
              "      <td>0.641421</td>\n",
              "      <td>0.326911</td>\n",
              "      <td>0.273673</td>\n",
              "      <td>-0.357807</td>\n",
              "    </tr>\n",
              "    <tr>\n",
              "      <th>IDADE_DT_ASSOC</th>\n",
              "      <td>0.505578</td>\n",
              "      <td>0.837474</td>\n",
              "      <td>0.641421</td>\n",
              "      <td>1.000000</td>\n",
              "      <td>0.264156</td>\n",
              "      <td>0.196954</td>\n",
              "      <td>-0.013374</td>\n",
              "    </tr>\n",
              "    <tr>\n",
              "      <th>qtdeTItulo</th>\n",
              "      <td>0.123336</td>\n",
              "      <td>0.262111</td>\n",
              "      <td>0.326911</td>\n",
              "      <td>0.264156</td>\n",
              "      <td>1.000000</td>\n",
              "      <td>0.159550</td>\n",
              "      <td>-0.268274</td>\n",
              "    </tr>\n",
              "    <tr>\n",
              "      <th>QTDE_TENTATIVAS_CTTO</th>\n",
              "      <td>-0.029832</td>\n",
              "      <td>0.268523</td>\n",
              "      <td>0.273673</td>\n",
              "      <td>0.196954</td>\n",
              "      <td>0.159550</td>\n",
              "      <td>1.000000</td>\n",
              "      <td>0.040601</td>\n",
              "    </tr>\n",
              "    <tr>\n",
              "      <th>TARGET_NUM</th>\n",
              "      <td>-0.148470</td>\n",
              "      <td>0.010738</td>\n",
              "      <td>-0.357807</td>\n",
              "      <td>-0.013374</td>\n",
              "      <td>-0.268274</td>\n",
              "      <td>0.040601</td>\n",
              "      <td>1.000000</td>\n",
              "    </tr>\n",
              "  </tbody>\n",
              "</table>\n",
              "</div>\n",
              "      <button class=\"colab-df-convert\" onclick=\"convertToInteractive('df-1e95e866-67b2-40cf-948d-506a7966f05c')\"\n",
              "              title=\"Convert this dataframe to an interactive table.\"\n",
              "              style=\"display:none;\">\n",
              "        \n",
              "  <svg xmlns=\"http://www.w3.org/2000/svg\" height=\"24px\"viewBox=\"0 0 24 24\"\n",
              "       width=\"24px\">\n",
              "    <path d=\"M0 0h24v24H0V0z\" fill=\"none\"/>\n",
              "    <path d=\"M18.56 5.44l.94 2.06.94-2.06 2.06-.94-2.06-.94-.94-2.06-.94 2.06-2.06.94zm-11 1L8.5 8.5l.94-2.06 2.06-.94-2.06-.94L8.5 2.5l-.94 2.06-2.06.94zm10 10l.94 2.06.94-2.06 2.06-.94-2.06-.94-.94-2.06-.94 2.06-2.06.94z\"/><path d=\"M17.41 7.96l-1.37-1.37c-.4-.4-.92-.59-1.43-.59-.52 0-1.04.2-1.43.59L10.3 9.45l-7.72 7.72c-.78.78-.78 2.05 0 2.83L4 21.41c.39.39.9.59 1.41.59.51 0 1.02-.2 1.41-.59l7.78-7.78 2.81-2.81c.8-.78.8-2.07 0-2.86zM5.41 20L4 18.59l7.72-7.72 1.47 1.35L5.41 20z\"/>\n",
              "  </svg>\n",
              "      </button>\n",
              "      \n",
              "  <style>\n",
              "    .colab-df-container {\n",
              "      display:flex;\n",
              "      flex-wrap:wrap;\n",
              "      gap: 12px;\n",
              "    }\n",
              "\n",
              "    .colab-df-convert {\n",
              "      background-color: #E8F0FE;\n",
              "      border: none;\n",
              "      border-radius: 50%;\n",
              "      cursor: pointer;\n",
              "      display: none;\n",
              "      fill: #1967D2;\n",
              "      height: 32px;\n",
              "      padding: 0 0 0 0;\n",
              "      width: 32px;\n",
              "    }\n",
              "\n",
              "    .colab-df-convert:hover {\n",
              "      background-color: #E2EBFA;\n",
              "      box-shadow: 0px 1px 2px rgba(60, 64, 67, 0.3), 0px 1px 3px 1px rgba(60, 64, 67, 0.15);\n",
              "      fill: #174EA6;\n",
              "    }\n",
              "\n",
              "    [theme=dark] .colab-df-convert {\n",
              "      background-color: #3B4455;\n",
              "      fill: #D2E3FC;\n",
              "    }\n",
              "\n",
              "    [theme=dark] .colab-df-convert:hover {\n",
              "      background-color: #434B5C;\n",
              "      box-shadow: 0px 1px 3px 1px rgba(0, 0, 0, 0.15);\n",
              "      filter: drop-shadow(0px 1px 2px rgba(0, 0, 0, 0.3));\n",
              "      fill: #FFFFFF;\n",
              "    }\n",
              "  </style>\n",
              "\n",
              "      <script>\n",
              "        const buttonEl =\n",
              "          document.querySelector('#df-1e95e866-67b2-40cf-948d-506a7966f05c button.colab-df-convert');\n",
              "        buttonEl.style.display =\n",
              "          google.colab.kernel.accessAllowed ? 'block' : 'none';\n",
              "\n",
              "        async function convertToInteractive(key) {\n",
              "          const element = document.querySelector('#df-1e95e866-67b2-40cf-948d-506a7966f05c');\n",
              "          const dataTable =\n",
              "            await google.colab.kernel.invokeFunction('convertToInteractive',\n",
              "                                                     [key], {});\n",
              "          if (!dataTable) return;\n",
              "\n",
              "          const docLinkHtml = 'Like what you see? Visit the ' +\n",
              "            '<a target=\"_blank\" href=https://colab.research.google.com/notebooks/data_table.ipynb>data table notebook</a>'\n",
              "            + ' to learn more about interactive tables.';\n",
              "          element.innerHTML = '';\n",
              "          dataTable['output_type'] = 'display_data';\n",
              "          await google.colab.output.renderOutput(dataTable, element);\n",
              "          const docLink = document.createElement('div');\n",
              "          docLink.innerHTML = docLinkHtml;\n",
              "          element.appendChild(docLink);\n",
              "        }\n",
              "      </script>\n",
              "    </div>\n",
              "  </div>\n",
              "  "
            ]
          },
          "metadata": {},
          "execution_count": 191
        }
      ]
    },
    {
      "cell_type": "code",
      "source": [
        "# Heatmap da matriz de correlação\n",
        "sns.heatmap(df.corr())"
      ],
      "metadata": {
        "colab": {
          "base_uri": "https://localhost:8080/",
          "height": 401
        },
        "id": "DHWAnSV1Ciyw",
        "outputId": "cc265031-4c64-432f-cf53-ae56966ff0ee"
      },
      "execution_count": 192,
      "outputs": [
        {
          "output_type": "execute_result",
          "data": {
            "text/plain": [
              "<matplotlib.axes._subplots.AxesSubplot at 0x7fd4c4d68910>"
            ]
          },
          "metadata": {},
          "execution_count": 192
        },
        {
          "output_type": "display_data",
          "data": {
            "text/plain": [
              "<Figure size 432x288 with 2 Axes>"
            ],
            "image/png": "[encoded data removed]"
          },
          "metadata": {
            "needs_background": "light"
          }
        }
      ]
    },
    {
      "cell_type": "code",
      "source": [
        "# Plotando matriz de covariância\n",
        "# Valores que são alterados para certos ganhos de alteração\n",
        "df.cov()"
      ],
      "metadata": {
        "colab": {
          "base_uri": "https://localhost:8080/",
          "height": 269
        },
        "id": "oO3FDArQIXf8",
        "outputId": "0fa830c7-15b8-4054-bc8e-e931bb2d0423"
      },
      "execution_count": 193,
      "outputs": [
        {
          "output_type": "execute_result",
          "data": {
            "text/plain": [
              "                          Contrato  IDADE_RECEB_CTR  IDADE_VENC_DEB  \\\n",
              "Contrato              4.577646e+13   -531521.397000    7.996076e+06   \n",
              "IDADE_RECEB_CTR      -5.315214e+05        77.699765    7.672475e+01   \n",
              "IDADE_VENC_DEB        7.996076e+06        76.724750    1.357740e+02   \n",
              "IDADE_DT_ASSOC        3.106223e+07        67.035436    6.786956e+01   \n",
              "qtdeTItulo            7.319810e+06        20.266743    3.341390e+01   \n",
              "QTDE_TENTATIVAS_CTTO -6.937904e+06        81.360144    1.096126e+02   \n",
              "TARGET_NUM           -3.138354e+05         0.029572   -1.302562e+00   \n",
              "\n",
              "                      IDADE_DT_ASSOC    qtdeTItulo  QTDE_TENTATIVAS_CTTO  \\\n",
              "Contrato                3.106223e+07  7.319810e+06         -6.937904e+06   \n",
              "IDADE_RECEB_CTR         6.703544e+01  2.026674e+01          8.136014e+01   \n",
              "IDADE_VENC_DEB          6.786956e+01  3.341390e+01          1.096126e+02   \n",
              "IDADE_DT_ASSOC          8.246068e+01  2.104131e+01          6.147653e+01   \n",
              "qtdeTItulo              2.104131e+01  7.694448e+01          4.810680e+01   \n",
              "QTDE_TENTATIVAS_CTTO    6.147653e+01  4.810680e+01          1.181517e+03   \n",
              "TARGET_NUM             -3.794327e-02 -7.352058e-01          4.360101e-01   \n",
              "\n",
              "                         TARGET_NUM  \n",
              "Contrato             -313835.368629  \n",
              "IDADE_RECEB_CTR            0.029572  \n",
              "IDADE_VENC_DEB            -1.302562  \n",
              "IDADE_DT_ASSOC            -0.037943  \n",
              "qtdeTItulo                -0.735206  \n",
              "QTDE_TENTATIVAS_CTTO       0.436010  \n",
              "TARGET_NUM                 0.097607  "
            ],
            "text/html": [
              "\n",
              "  <div id=\"df-4d4bee31-33de-42f3-ac7b-f4bd0c1ddada\">\n",
              "    <div class=\"colab-df-container\">\n",
              "      <div>\n",
              "<style scoped>\n",
              "    .dataframe tbody tr th:only-of-type {\n",
              "        vertical-align: middle;\n",
              "    }\n",
              "\n",
              "    .dataframe tbody tr th {\n",
              "        vertical-align: top;\n",
              "    }\n",
              "\n",
              "    .dataframe thead th {\n",
              "        text-align: right;\n",
              "    }\n",
              "</style>\n",
              "<table border=\"1\" class=\"dataframe\">\n",
              "  <thead>\n",
              "    <tr style=\"text-align: right;\">\n",
              "      <th></th>\n",
              "      <th>Contrato</th>\n",
              "      <th>IDADE_RECEB_CTR</th>\n",
              "      <th>IDADE_VENC_DEB</th>\n",
              "      <th>IDADE_DT_ASSOC</th>\n",
              "      <th>qtdeTItulo</th>\n",
              "      <th>QTDE_TENTATIVAS_CTTO</th>\n",
              "      <th>TARGET_NUM</th>\n",
              "    </tr>\n",
              "  </thead>\n",
              "  <tbody>\n",
              "    <tr>\n",
              "      <th>Contrato</th>\n",
              "      <td>4.577646e+13</td>\n",
              "      <td>-531521.397000</td>\n",
              "      <td>7.996076e+06</td>\n",
              "      <td>3.106223e+07</td>\n",
              "      <td>7.319810e+06</td>\n",
              "      <td>-6.937904e+06</td>\n",
              "      <td>-313835.368629</td>\n",
              "    </tr>\n",
              "    <tr>\n",
              "      <th>IDADE_RECEB_CTR</th>\n",
              "      <td>-5.315214e+05</td>\n",
              "      <td>77.699765</td>\n",
              "      <td>7.672475e+01</td>\n",
              "      <td>6.703544e+01</td>\n",
              "      <td>2.026674e+01</td>\n",
              "      <td>8.136014e+01</td>\n",
              "      <td>0.029572</td>\n",
              "    </tr>\n",
              "    <tr>\n",
              "      <th>IDADE_VENC_DEB</th>\n",
              "      <td>7.996076e+06</td>\n",
              "      <td>76.724750</td>\n",
              "      <td>1.357740e+02</td>\n",
              "      <td>6.786956e+01</td>\n",
              "      <td>3.341390e+01</td>\n",
              "      <td>1.096126e+02</td>\n",
              "      <td>-1.302562</td>\n",
              "    </tr>\n",
              "    <tr>\n",
              "      <th>IDADE_DT_ASSOC</th>\n",
              "      <td>3.106223e+07</td>\n",
              "      <td>67.035436</td>\n",
              "      <td>6.786956e+01</td>\n",
              "      <td>8.246068e+01</td>\n",
              "      <td>2.104131e+01</td>\n",
              "      <td>6.147653e+01</td>\n",
              "      <td>-0.037943</td>\n",
              "    </tr>\n",
              "    <tr>\n",
              "      <th>qtdeTItulo</th>\n",
              "      <td>7.319810e+06</td>\n",
              "      <td>20.266743</td>\n",
              "      <td>3.341390e+01</td>\n",
              "      <td>2.104131e+01</td>\n",
              "      <td>7.694448e+01</td>\n",
              "      <td>4.810680e+01</td>\n",
              "      <td>-0.735206</td>\n",
              "    </tr>\n",
              "    <tr>\n",
              "      <th>QTDE_TENTATIVAS_CTTO</th>\n",
              "      <td>-6.937904e+06</td>\n",
              "      <td>81.360144</td>\n",
              "      <td>1.096126e+02</td>\n",
              "      <td>6.147653e+01</td>\n",
              "      <td>4.810680e+01</td>\n",
              "      <td>1.181517e+03</td>\n",
              "      <td>0.436010</td>\n",
              "    </tr>\n",
              "    <tr>\n",
              "      <th>TARGET_NUM</th>\n",
              "      <td>-3.138354e+05</td>\n",
              "      <td>0.029572</td>\n",
              "      <td>-1.302562e+00</td>\n",
              "      <td>-3.794327e-02</td>\n",
              "      <td>-7.352058e-01</td>\n",
              "      <td>4.360101e-01</td>\n",
              "      <td>0.097607</td>\n",
              "    </tr>\n",
              "  </tbody>\n",
              "</table>\n",
              "</div>\n",
              "      <button class=\"colab-df-convert\" onclick=\"convertToInteractive('df-4d4bee31-33de-42f3-ac7b-f4bd0c1ddada')\"\n",
              "              title=\"Convert this dataframe to an interactive table.\"\n",
              "              style=\"display:none;\">\n",
              "        \n",
              "  <svg xmlns=\"http://www.w3.org/2000/svg\" height=\"24px\"viewBox=\"0 0 24 24\"\n",
              "       width=\"24px\">\n",
              "    <path d=\"M0 0h24v24H0V0z\" fill=\"none\"/>\n",
              "    <path d=\"M18.56 5.44l.94 2.06.94-2.06 2.06-.94-2.06-.94-.94-2.06-.94 2.06-2.06.94zm-11 1L8.5 8.5l.94-2.06 2.06-.94-2.06-.94L8.5 2.5l-.94 2.06-2.06.94zm10 10l.94 2.06.94-2.06 2.06-.94-2.06-.94-.94-2.06-.94 2.06-2.06.94z\"/><path d=\"M17.41 7.96l-1.37-1.37c-.4-.4-.92-.59-1.43-.59-.52 0-1.04.2-1.43.59L10.3 9.45l-7.72 7.72c-.78.78-.78 2.05 0 2.83L4 21.41c.39.39.9.59 1.41.59.51 0 1.02-.2 1.41-.59l7.78-7.78 2.81-2.81c.8-.78.8-2.07 0-2.86zM5.41 20L4 18.59l7.72-7.72 1.47 1.35L5.41 20z\"/>\n",
              "  </svg>\n",
              "      </button>\n",
              "      \n",
              "  <style>\n",
              "    .colab-df-container {\n",
              "      display:flex;\n",
              "      flex-wrap:wrap;\n",
              "      gap: 12px;\n",
              "    }\n",
              "\n",
              "    .colab-df-convert {\n",
              "      background-color: #E8F0FE;\n",
              "      border: none;\n",
              "      border-radius: 50%;\n",
              "      cursor: pointer;\n",
              "      display: none;\n",
              "      fill: #1967D2;\n",
              "      height: 32px;\n",
              "      padding: 0 0 0 0;\n",
              "      width: 32px;\n",
              "    }\n",
              "\n",
              "    .colab-df-convert:hover {\n",
              "      background-color: #E2EBFA;\n",
              "      box-shadow: 0px 1px 2px rgba(60, 64, 67, 0.3), 0px 1px 3px 1px rgba(60, 64, 67, 0.15);\n",
              "      fill: #174EA6;\n",
              "    }\n",
              "\n",
              "    [theme=dark] .colab-df-convert {\n",
              "      background-color: #3B4455;\n",
              "      fill: #D2E3FC;\n",
              "    }\n",
              "\n",
              "    [theme=dark] .colab-df-convert:hover {\n",
              "      background-color: #434B5C;\n",
              "      box-shadow: 0px 1px 3px 1px rgba(0, 0, 0, 0.15);\n",
              "      filter: drop-shadow(0px 1px 2px rgba(0, 0, 0, 0.3));\n",
              "      fill: #FFFFFF;\n",
              "    }\n",
              "  </style>\n",
              "\n",
              "      <script>\n",
              "        const buttonEl =\n",
              "          document.querySelector('#df-4d4bee31-33de-42f3-ac7b-f4bd0c1ddada button.colab-df-convert');\n",
              "        buttonEl.style.display =\n",
              "          google.colab.kernel.accessAllowed ? 'block' : 'none';\n",
              "\n",
              "        async function convertToInteractive(key) {\n",
              "          const element = document.querySelector('#df-4d4bee31-33de-42f3-ac7b-f4bd0c1ddada');\n",
              "          const dataTable =\n",
              "            await google.colab.kernel.invokeFunction('convertToInteractive',\n",
              "                                                     [key], {});\n",
              "          if (!dataTable) return;\n",
              "\n",
              "          const docLinkHtml = 'Like what you see? Visit the ' +\n",
              "            '<a target=\"_blank\" href=https://colab.research.google.com/notebooks/data_table.ipynb>data table notebook</a>'\n",
              "            + ' to learn more about interactive tables.';\n",
              "          element.innerHTML = '';\n",
              "          dataTable['output_type'] = 'display_data';\n",
              "          await google.colab.output.renderOutput(dataTable, element);\n",
              "          const docLink = document.createElement('div');\n",
              "          docLink.innerHTML = docLinkHtml;\n",
              "          element.appendChild(docLink);\n",
              "        }\n",
              "      </script>\n",
              "    </div>\n",
              "  </div>\n",
              "  "
            ]
          },
          "metadata": {},
          "execution_count": 193
        }
      ]
    },
    {
      "cell_type": "markdown",
      "source": [
        "### Análise em histograma\n"
      ],
      "metadata": {
        "id": "6Yq_yZHsJ5wV"
      }
    },
    {
      "cell_type": "code",
      "source": [
        "# Análise em histograma da tabela \"Carteira\"\n",
        "plt.figure(figsize=(14,8))\n",
        "sns.histplot(x='Carteira',data=df,hue=df['Carteira'])"
      ],
      "metadata": {
        "colab": {
          "base_uri": "https://localhost:8080/",
          "height": 515
        },
        "id": "4GJj-lUmKASU",
        "outputId": "316e9133-12fe-436e-aaee-45be52d5a775"
      },
      "execution_count": 194,
      "outputs": [
        {
          "output_type": "execute_result",
          "data": {
            "text/plain": [
              "<matplotlib.axes._subplots.AxesSubplot at 0x7fd4c4d6b2d0>"
            ]
          },
          "metadata": {},
          "execution_count": 194
        },
        {
          "output_type": "display_data",
          "data": {
            "text/plain": [
              "<Figure size 1008x576 with 1 Axes>"
            ],
            "image/png": "[encoded data removed]"
          },
          "metadata": {
            "needs_background": "light"
          }
        }
      ]
    },
    {
      "cell_type": "code",
      "source": [
        "#\n",
        "filter_data = df.dropna(subset=['QTDE_TENTATIVAS_CTTO'])\n",
        "plt.figure(figsize=(14,8))\n",
        "sns.distplot(filter_data['QTDE_TENTATIVAS_CTTO'], kde=False)"
      ],
      "metadata": {
        "colab": {
          "base_uri": "https://localhost:8080/",
          "height": 775
        },
        "id": "NyTVxIOBOl7B",
        "outputId": "0cbd39a4-2526-4a82-953c-c03a13f71bbe"
      },
      "execution_count": 205,
      "outputs": [
        {
          "output_type": "stream",
          "name": "stderr",
          "text": [
            "/usr/local/lib/python3.7/dist-packages/seaborn/distributions.py:2619: FutureWarning: `distplot` is a deprecated function and will be removed in a future version. Please adapt your code to use either `displot` (a figure-level function with similar flexibility) or `histplot` (an axes-level function for histograms).\n",
            "  warnings.warn(msg, FutureWarning)\n"
          ]
        },
        {
          "output_type": "execute_result",
          "data": {
            "text/plain": [
              "<matplotlib.axes._subplots.AxesSubplot at 0x7fd4c2064650>"
            ]
          },
          "metadata": {},
          "execution_count": 205
        },
        {
          "output_type": "display_data",
          "data": {
            "text/plain": [
              "<Figure size 1400x800 with 1 Axes>"
            ],
            "image/png": "[encoded data removed]"
          },
          "metadata": {}
        }
      ]
    },
    {
      "cell_type": "markdown",
      "source": [
        "### Bloxplot"
      ],
      "metadata": {
        "id": "NbbEv2EJKKCV"
      }
    },
    {
      "cell_type": "code",
      "source": [
        "# Bloxplot da tabela \"Sexo\", com a tabela \"QTDE_TENTATIVAS_CTTO\", comparando masculino e feminino\n",
        "ax = sns.boxplot(x='Sexo', y='QTDE_TENTATIVAS_CTTO', data=df, orient=\"v\")"
      ],
      "metadata": {
        "colab": {
          "base_uri": "https://localhost:8080/",
          "height": 279
        },
        "id": "r-AedTlaKOrj",
        "outputId": "0aa84f72-cab3-4c1c-8702-d71dd2b0d0e9"
      },
      "execution_count": 195,
      "outputs": [
        {
          "output_type": "display_data",
          "data": {
            "text/plain": [
              "<Figure size 432x288 with 1 Axes>"
            ],
            "image/png": "[encoded data removed]"
          },
          "metadata": {
            "needs_background": "light"
          }
        }
      ]
    },
    {
      "cell_type": "code",
      "source": [
        "#Boxplot Qtd Tentativas \n",
        "plt.figure(figsize=(12,8))\n",
        "sns.boxplot(df[\"QTDE_TENTATIVAS_CTTO\"],color='darkorange')"
      ],
      "metadata": {
        "colab": {
          "base_uri": "https://localhost:8080/",
          "height": 572
        },
        "id": "id4CHne8Kp4l",
        "outputId": "aabe8cf6-1ad2-4b83-93ba-d5e7a9b3e7e7"
      },
      "execution_count": 197,
      "outputs": [
        {
          "output_type": "stream",
          "name": "stderr",
          "text": [
            "/usr/local/lib/python3.7/dist-packages/seaborn/_decorators.py:43: FutureWarning: Pass the following variable as a keyword arg: x. From version 0.12, the only valid positional argument will be `data`, and passing other arguments without an explicit keyword will result in an error or misinterpretation.\n",
            "  FutureWarning\n"
          ]
        },
        {
          "output_type": "execute_result",
          "data": {
            "text/plain": [
              "<matplotlib.axes._subplots.AxesSubplot at 0x7fd4c240ef50>"
            ]
          },
          "metadata": {},
          "execution_count": 197
        },
        {
          "output_type": "display_data",
          "data": {
            "text/plain": [
              "<Figure size 864x576 with 1 Axes>"
            ],
            "image/png": "[encoded data removed]"
          },
          "metadata": {
            "needs_background": "light"
          }
        }
      ]
    }
  ]
}